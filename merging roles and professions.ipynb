{
 "cells": [
  {
   "cell_type": "code",
   "execution_count": 2,
   "metadata": {
    "collapsed": true
   },
   "outputs": [],
   "source": [
    "import pandas as pd\n",
    "import matplotlib.pyplot as plt\n",
    "%matplotlib inline"
   ]
  },
  {
   "cell_type": "code",
   "execution_count": 10,
   "metadata": {
    "collapsed": false
   },
   "outputs": [],
   "source": [
    "profession_df = pd.read_table('full_roles_profs.csv',sep=',')"
   ]
  },
  {
   "cell_type": "code",
   "execution_count": 12,
   "metadata": {
    "collapsed": false
   },
   "outputs": [
    {
     "data": {
      "text/plain": [
       "0               source\n",
       "1       representative\n",
       "2         intermediary\n",
       "3            recipient\n",
       "4               source\n",
       "5            recipient\n",
       "6               source\n",
       "7         intermediary\n",
       "8            new owner\n",
       "9       representative\n",
       "10              source\n",
       "11        intermediary\n",
       "12      representative\n",
       "13        intermediary\n",
       "14              source\n",
       "15              source\n",
       "16        intermediary\n",
       "17              source\n",
       "18        intermediary\n",
       "19           recipient\n",
       "20        intermediary\n",
       "21        intermediary\n",
       "22        intermediary\n",
       "23              source\n",
       "24        intermediary\n",
       "25           new owner\n",
       "26           new owner\n",
       "27        intermediary\n",
       "28        intermediary\n",
       "29      representative\n",
       "             ...      \n",
       "4027            source\n",
       "4028            source\n",
       "4029    representative\n",
       "4030      intermediary\n",
       "4031         new owner\n",
       "4032         new owner\n",
       "4033            source\n",
       "4034         new owner\n",
       "4035            source\n",
       "4036            source\n",
       "4037            source\n",
       "4038      intermediary\n",
       "4039    representative\n",
       "4040            source\n",
       "4041    representative\n",
       "4042    representative\n",
       "4043      intermediary\n",
       "4044      intermediary\n",
       "4045      intermediary\n",
       "4046    representative\n",
       "4047      intermediary\n",
       "4048      intermediary\n",
       "4049         new owner\n",
       "4050            source\n",
       "4051            source\n",
       "4052            source\n",
       "4053            source\n",
       "4054            source\n",
       "4055            source\n",
       "4056            source\n",
       "Name: role, dtype: object"
      ]
     },
     "execution_count": 12,
     "metadata": {},
     "output_type": "execute_result"
    }
   ],
   "source": [
    "profession_df[\"role\"]."
   ]
  },
  {
   "cell_type": "code",
   "execution_count": 5,
   "metadata": {
    "collapsed": false
   },
   "outputs": [],
   "source": [
    "roles_df = pd.read_csv('roles.csv', index_col=0)"
   ]
  },
  {
   "cell_type": "code",
   "execution_count": 6,
   "metadata": {
    "collapsed": false
   },
   "outputs": [
    {
     "data": {
      "text/html": [
       "<div>\n",
       "<table border=\"1\" class=\"dataframe\">\n",
       "  <thead>\n",
       "    <tr style=\"text-align: right;\">\n",
       "      <th></th>\n",
       "      <th>name</th>\n",
       "      <th>role</th>\n",
       "      <th>p_index</th>\n",
       "    </tr>\n",
       "  </thead>\n",
       "  <tbody>\n",
       "    <tr>\n",
       "      <th>1</th>\n",
       "      <td>ab-ba-kal-la</td>\n",
       "      <td>['source']</td>\n",
       "      <td>100041</td>\n",
       "    </tr>\n",
       "    <tr>\n",
       "      <th>2</th>\n",
       "      <td>lu₂-dingir-ra</td>\n",
       "      <td>['source']</td>\n",
       "      <td>100189</td>\n",
       "    </tr>\n",
       "    <tr>\n",
       "      <th>3</th>\n",
       "      <td>ur-nigar{gar}</td>\n",
       "      <td>['recipient']</td>\n",
       "      <td>100189</td>\n",
       "    </tr>\n",
       "    <tr>\n",
       "      <th>4</th>\n",
       "      <td>nu-i₃-da</td>\n",
       "      <td>['new owner']</td>\n",
       "      <td>100190</td>\n",
       "    </tr>\n",
       "    <tr>\n",
       "      <th>5</th>\n",
       "      <td>na-sa₆</td>\n",
       "      <td>['source']</td>\n",
       "      <td>100190</td>\n",
       "    </tr>\n",
       "    <tr>\n",
       "      <th>6</th>\n",
       "      <td>lu₂-dingir-ra</td>\n",
       "      <td>['source']</td>\n",
       "      <td>100191</td>\n",
       "    </tr>\n",
       "    <tr>\n",
       "      <th>7</th>\n",
       "      <td>ur-nigar{gar}</td>\n",
       "      <td>['recipient']</td>\n",
       "      <td>100191</td>\n",
       "    </tr>\n",
       "    <tr>\n",
       "      <th>8</th>\n",
       "      <td>lu₂-dingir-ra</td>\n",
       "      <td>['source']</td>\n",
       "      <td>100211</td>\n",
       "    </tr>\n",
       "    <tr>\n",
       "      <th>9</th>\n",
       "      <td>ur-nigar{gar}</td>\n",
       "      <td>['recipient']</td>\n",
       "      <td>100211</td>\n",
       "    </tr>\n",
       "    <tr>\n",
       "      <th>10</th>\n",
       "      <td>šu-{d}nin-šubur</td>\n",
       "      <td>['representative']</td>\n",
       "      <td>100215</td>\n",
       "    </tr>\n",
       "  </tbody>\n",
       "</table>\n",
       "</div>"
      ],
      "text/plain": [
       "               name                role  p_index\n",
       "1      ab-ba-kal-la          ['source']   100041\n",
       "2     lu₂-dingir-ra          ['source']   100189\n",
       "3     ur-nigar{gar}       ['recipient']   100189\n",
       "4          nu-i₃-da       ['new owner']   100190\n",
       "5            na-sa₆          ['source']   100190\n",
       "6     lu₂-dingir-ra          ['source']   100191\n",
       "7     ur-nigar{gar}       ['recipient']   100191\n",
       "8     lu₂-dingir-ra          ['source']   100211\n",
       "9     ur-nigar{gar}       ['recipient']   100211\n",
       "10  šu-{d}nin-šubur  ['representative']   100215"
      ]
     },
     "execution_count": 6,
     "metadata": {},
     "output_type": "execute_result"
    }
   ],
   "source": [
    "roles_df.head(10)"
   ]
  },
  {
   "cell_type": "code",
   "execution_count": null,
   "metadata": {
    "collapsed": true
   },
   "outputs": [],
   "source": []
  }
 ],
 "metadata": {
  "kernelspec": {
   "display_name": "Python 3",
   "language": "python",
   "name": "python3"
  },
  "language_info": {
   "codemirror_mode": {
    "name": "ipython",
    "version": 3
   },
   "file_extension": ".py",
   "mimetype": "text/x-python",
   "name": "python",
   "nbconvert_exporter": "python",
   "pygments_lexer": "ipython3",
   "version": "3.6.0"
  }
 },
 "nbformat": 4,
 "nbformat_minor": 2
}
