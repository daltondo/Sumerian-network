{
 "cells": [
  {
   "cell_type": "markdown",
   "metadata": {},
   "source": [
    "### Load python file"
   ]
  },
  {
   "cell_type": "code",
   "execution_count": 57,
   "metadata": {
    "collapsed": false
   },
   "outputs": [
    {
     "name": "stdout",
     "output_type": "stream",
     "text": [
      "completed raw-data/p001.atf\n",
      "completed raw-data/p002.atf\n",
      "completed raw-data/p003.atf\n",
      "completed raw-data/p004.atf\n",
      "completed raw-data/p005.atf\n",
      "completed raw-data/p006.atf\n",
      "completed raw-data/p007.atf\n",
      "completed raw-data/p008.atf\n",
      "completed raw-data/p009.atf\n",
      "completed raw-data/p010.atf\n",
      "completed raw-data/p011.atf\n",
      "completed raw-data/p012.atf\n",
      "completed raw-data/p013.atf\n",
      "completed raw-data/p014.atf\n",
      "completed raw-data/p015.atf\n",
      "***Total of  67499  transactions.***\n",
      "3794  transactions DO NOT have PN.\n",
      "33241  transactions contain a word ki[place].\n",
      "10993  transactions contain a word šu ba-ti.\n",
      "590  transactions contain a word ra₂-gaba.\n"
     ]
    }
   ],
   "source": [
    "# %load get_roles_edited.py\n",
    "import re\n",
    "\n",
    "ORACC_FILE = 'raw-data/p001.atf'\n",
    "DREHEM_P_IDS_FILE = 'drehem_p_ids.txt'\n",
    "\n",
    "NUM_TEXTS = 25\n",
    "# things to keep:\n",
    "#\tset: (p_index)\n",
    "#\tdictionary: {p_index: transaction}\n",
    "#\tobject transaction has p_index, source, receiver, \n",
    "\n",
    "complete_transaction_ls = list()\n",
    "complete_drehem_p_sets = set()\n",
    "p_sets_of_interest = set()\n",
    "transaction_ls = list()\n",
    "\n",
    "class Transaction:\n",
    "\tdef __init__(self, p, line):\n",
    "\t\tself.p_index = p\n",
    "\t\t# can add date/place/etc.\n",
    "\t\tself.roles = {}\n",
    "\t\t# role name: name of person (ex. 'source': 'Turamdatan')\n",
    "\t\tself.people = set()\n",
    "\n",
    "\t\tself.line = line;\n",
    "\t\t# ls of lines\n",
    "\n",
    "\t\tself.ls_lines_containing_PN = list()\n",
    "\t\t# ls of lines containing PN\n",
    "\n",
    "\tdef __str__(self):\n",
    "\t\treturn 'P' + str(self.p_index) + '\\nlines: ' + self.line \n",
    "\t\t# + '\\n\\t' + str(self.people)\n",
    "\tdef get_num_people(self):\n",
    "\t\treturn len(self.people)\n",
    "\n",
    "def get_p_index(line):\n",
    "\t# line of the form '&P100259 = ...': return '100259'\n",
    "\treturn line.split(' ')[0][2:]\n",
    "\n",
    "\n",
    "def get_drehem_p_ids():\n",
    "\twith open(DREHEM_P_IDS_FILE) as read_file:\n",
    "\t\tfor line in read_file:\n",
    "\t\t\tcomplete_drehem_p_sets.add(line[:-1])\n",
    "\treturn complete_drehem_p_sets\n",
    "\n",
    "def collect_p_id_of_interest(file_name):\n",
    "\tget_drehem_p_ids();\n",
    "\twith open(file_name) as input_file:\n",
    "\t\tcount = 0\n",
    "\t\tfor line in input_file:\n",
    "\t\t\tline = line.strip()# remove \\n\n",
    "\t\t\tif line.startswith('&P'):\n",
    "\t\t\t\tp_id = get_p_index(line);\n",
    "\t\t\t\tif p_id in complete_drehem_p_sets:\n",
    "\t\t\t\t\tp_sets_of_interest.add(p_id);\n",
    "\t# print( p_sets_of_interest)\n",
    "\treturn p_sets_of_interest\n",
    "\n",
    "def get_transactions(file_name, p_id_set_sort=None):\n",
    "\t\n",
    "\twith open(file_name) as input_file:\n",
    "\t\tcurrentTransaction = None;\n",
    "\t\tfor line in input_file:\n",
    "\t\t\tline = line.strip() # remove \\n\n",
    "\t\t\tif line.startswith('&P'):\n",
    "\t\t\t\tif currentTransaction is None:\t\t\n",
    "\t\t\t\t\tp_index = get_p_index(line)\n",
    "\t\t\t\t\tcurrentTransaction = Transaction(p_index, line)\n",
    "\t\t\t\telse:\n",
    "\t\t\t\t\tif p_id_set_sort is None or currentTransaction.p_index in p_id_set_sort:\n",
    "\t\t\t\t\t\ttransaction_ls.append(currentTransaction) # add the transaction to the list\n",
    "\t\t\t\t\t\n",
    "\n",
    "\t\t\t\t\tp_index = get_p_index(line)\n",
    "\t\t\t\t\tcurrentTransaction = Transaction(p_index, line) # start a new transaction\n",
    "\t\t\telse:\n",
    "\t\t\t\tcurrentTransaction.line += \"\\n\" + line;\n",
    "\n",
    "\t\t# add the last transaction to the list\n",
    "\t\tif p_id_set_sort is None or currentTransaction.p_index in p_id_set_sort:\n",
    "\t\t\ttransaction_ls.append(currentTransaction)\n",
    "\t\t\n",
    "\t# print(len(transaction_ls))\n",
    "\t# print(transaction_ls[-1])\n",
    "\treturn transaction_ls\n",
    "\n",
    "\n",
    "# with open(ORACC_FILE) as input_file:\n",
    "# \tfor line in input_file:\n",
    "# \t\tline = line.strip()\n",
    "# \t\tif not re.match(r'^&P|^#lem|^\\d+\\.|^@|^#|^\\$|^\\d+ʾ\\.|^=:|^\\s+$|^$', line):\n",
    "# \t\t\tprint(line);\n",
    "\t\t# if re.match(r'^&P|^#lem|^\\d+\\.|^\\d+ʾ\\.', line):\n",
    "\t\t# \tprint(line)\n",
    "\t\t# elif re.match(r'|^\\s+$|^$', line):\n",
    "\t\t\t#ignore\n",
    "\t\t# elif re.match(r'^@|^#|^\\$|')\n",
    "def clean_transaction(transaction):\n",
    "\t# change the whole transaction.line into\n",
    "\t# a list of important text, discarding unimportant lines\n",
    "\t# transaction.line = [\"1. ~~ #lem: ~~\" ... ]\n",
    "\n",
    "\t# print(transaction.p_index)\n",
    "\tsearchObj = re.findall(r'(\\d+ʾ\\..*\\n#lem:.*|\\d+\\..*\\n#lem:.*)', transaction.line)\n",
    "\t\n",
    "\ttransaction.line = searchObj\n",
    "\n",
    "\n",
    "def get_PN(transaction):\n",
    "\t# get the list of lines containing PN --> transaction.ls_lines_containing_PN\n",
    "\t# get the set of PN --> transaction.people\n",
    "\ttxt,translit = None, None\n",
    "\tfor line in transaction.line:\n",
    "\t\tif \"PN\" in line:\n",
    "\t\t\ttransaction.ls_lines_containing_PN.append(line)\n",
    "\n",
    "\t\t\t\n",
    "\tfor line in transaction.ls_lines_containing_PN:\n",
    "\t\ttxt,translit = line.split(\"\\n\")\n",
    "\t\t\n",
    "\t\ttranslit = translit.replace(\"#lem: \",\"\")\n",
    "\t\t\n",
    "\t\ttranslit, txt = translit.split(\";\"), txt.split(\" \")[1:]\n",
    "\n",
    "\t\tfor index, word  in enumerate(translit):\n",
    "\t\t    if \"PN\" in word:\n",
    "\t\t        # print(translit, txt, index)\n",
    "\n",
    "\t\t        transaction.people.add(txt[index])\n",
    "\t# if len(transaction.people) == 0:\n",
    "\t# \tprint(transaction.line,txt, translit, transaction.p_index)\n",
    "\n",
    "\t# print(transaction.people)\n",
    "\n",
    "\n",
    "def process_files():\n",
    "\t#return a complete list of transactions out of all input files\n",
    "\tglobal p_sets_of_interest\n",
    "\tglobal transaction_ls\n",
    "\tglobal complete_transaction_ls\n",
    "\ti = 1; # oracc file number\n",
    "\n",
    "\n",
    "\t\n",
    "\twhile i <= 15:\n",
    "\t\tp_sets_of_interest = set()\n",
    "\t\ttransaction_ls = list()\n",
    "\t\tif i < 10:\n",
    "\t\t\tORACC_FILE = 'raw-data/p00'+str(i)+'.atf'\n",
    "\t\telse:\n",
    "\t\t\tORACC_FILE = 'raw-data/p0'+str(i)+'.atf'\n",
    "\t\tcollect_p_id_of_interest(ORACC_FILE);\n",
    "\t\tget_transactions(ORACC_FILE);\n",
    "\t\tfor trans in transaction_ls:\t\t\n",
    "\t\t\tclean_transaction(trans)\n",
    "\t\t\tget_PN(trans)\n",
    "\t\tcomplete_transaction_ls += transaction_ls\n",
    "\t\t# print(len(transaction_ls), len(p_sets_of_interest))\n",
    "\t\tprint(\"completed \"+ORACC_FILE)\n",
    "\t\ti+=1\n",
    "\n",
    "\tprint(\"***Total of \", len(complete_transaction_ls), \" transactions.***\")\n",
    "\treturn complete_transaction_ls\n",
    "\n",
    "def main():\n",
    "\tls = process_files()\n",
    "\tno_PN_count = 0\n",
    "\tcontain_ki_count = 0\n",
    "\tcontain_subati_count = 0\n",
    "\tcontain_ragaba_count = 0\n",
    "\tfor trans in ls:\n",
    "\t\tif trans.get_num_people() == 0:\n",
    "\t\t\tno_PN_count+=1\n",
    "\t\tline = ''.join(trans.line)\n",
    "\t\tif \"ki[place]\" in line:\n",
    "\t\t\tcontain_ki_count += 1\n",
    "\t\t\t\n",
    "\t\tif \"šu ba-ti\" in line:\n",
    "\t\t\tcontain_subati_count += 1\n",
    "\t\tif \"ra₂-gaba\" in line:\n",
    "\t\t\tcontain_ragaba_count += 1\n",
    "\n",
    "\n",
    "\tprint(no_PN_count, \" transactions DO NOT have PN.\")\n",
    "\tprint(contain_ki_count, \" transactions contain a word ki[place].\")\n",
    "\tprint(contain_subati_count, \" transactions contain a word šu ba-ti.\")\n",
    "\tprint(contain_ragaba_count, \" transactions contain a word ra₂-gaba.\")\n",
    "\n",
    "main()\n",
    "\n"
   ]
  },
  {
   "cell_type": "code",
   "execution_count": 73,
   "metadata": {
    "collapsed": false
   },
   "outputs": [],
   "source": [
    "ls1 = list() # list of words in the same line with PN\n",
    "ls2 = list() # list of transliterated lines containing PN\n",
    "for trans in complete_transaction_ls:\n",
    "    for line in trans.ls_lines_containing_PN:\n",
    "        txt,translit = line.split(\"\\n\")\n",
    "        translit = translit.replace(\"#lem: \",\"\")\n",
    "        ls2.append(translit)\n",
    "        translit, txt = translit.split(\";\"), txt.split(\" \")[1:]\n",
    "        ls1 += [a for a in translit]"
   ]
  },
  {
   "cell_type": "markdown",
   "metadata": {},
   "source": [
    "### import libraries"
   ]
  },
  {
   "cell_type": "code",
   "execution_count": 59,
   "metadata": {
    "collapsed": true
   },
   "outputs": [],
   "source": [
    "from collections import Counter\n",
    "import pandas as pd\n",
    "import matplotlib.pyplot as plt\n",
    "%matplotlib inline"
   ]
  },
  {
   "cell_type": "markdown",
   "metadata": {},
   "source": [
    "### playing with data"
   ]
  },
  {
   "cell_type": "code",
   "execution_count": 60,
   "metadata": {
    "collapsed": false
   },
   "outputs": [],
   "source": [
    "s = pd.Series(ls1)"
   ]
  },
  {
   "cell_type": "code",
   "execution_count": 62,
   "metadata": {
    "collapsed": false
   },
   "outputs": [
    {
     "data": {
      "text/plain": [
       "1699"
      ]
     },
     "execution_count": 62,
     "metadata": {},
     "output_type": "execute_result"
    }
   ],
   "source": [
    "# number of unique words in the lines containing PN\n",
    "s.value_counts().count()"
   ]
  },
  {
   "cell_type": "code",
   "execution_count": 72,
   "metadata": {
    "collapsed": false
   },
   "outputs": [
    {
     "data": {
      "text/plain": [
       " PN                         203268\n",
       "PN                           92262\n",
       "n                            59525\n",
       "ki[place]                    31367\n",
       " n                           31193\n",
       "dumu[child]                  20411\n",
       "kišib[seal]                  16666\n",
       " dumu[child]                 12144\n",
       "mu[year]                     12050\n",
       "ŋiri[foot]                   11291\n",
       "ugula[overseer]               8753\n",
       " sila[unit]                   7052\n",
       " lugal[king]                  6846\n",
       " X                            6432\n",
       " dab[seize]                   5311\n",
       " lu[person]                   5086\n",
       " u                            4717\n",
       " GN                           4439\n",
       " maškim[administrator]        3167\n",
       " sukkal[secretary]            3164\n",
       " gur[unit]                    3044\n",
       " sila[lamb]                   2959\n",
       " engar[farmer]                2925\n",
       " udu[sheep]                   2865\n",
       " ugula[overseer]              2786\n",
       "AN                            2641\n",
       " ki[place]                    2555\n",
       " giŋ[unit]                    2456\n",
       " AN                           2455\n",
       "u                             2454\n",
       "                             ...  \n",
       "šaggal[food]                   196\n",
       " kaguruk[supervisor]           193\n",
       " šukur[ration]                 191\n",
       " šarrabdu[administrator]       190\n",
       "tug[textile]                   189\n",
       " ŋeš[tree]                     185\n",
       " da[cvve]                      184\n",
       " UN.IL₂[menial]                183\n",
       " WN                            181\n",
       " mašgal[goat]                  180\n",
       " siki[hair]                    180\n",
       " ak[do]                        177\n",
       " a[arm]                        177\n",
       " e[speak]                      176\n",
       "bala[turn]                     176\n",
       "FN                             176\n",
       " bar[outside]                  170\n",
       "GN                             170\n",
       "geme[worker]                   168\n",
       " anše[equid]                   166\n",
       " šuʾi[barber]                  164\n",
       "nu[not]                        164\n",
       "inim[word]                     163\n",
       " hi[mix]                       163\n",
       " taka[abandon]                 162\n",
       " dabin[semolina]               160\n",
       "siškur[prayer]                 159\n",
       " nagar[carpenter]              159\n",
       " kaʾusa[function]              157\n",
       " sadug[offerings]              153\n",
       "dtype: int64"
      ]
     },
     "execution_count": 72,
     "metadata": {},
     "output_type": "execute_result"
    }
   ],
   "source": [
    "# 10 most common words in the lines containing PN \n",
    "s.value_counts().head(200)"
   ]
  },
  {
   "cell_type": "code",
   "execution_count": 70,
   "metadata": {
    "collapsed": false
   },
   "outputs": [
    {
     "data": {
      "text/plain": [
       " be[diminish]       1\n",
       "kabduga[checked]    1\n",
       " hum[snap]          1\n",
       "zagbar[scraps]      1\n",
       "dida[wort]          1\n",
       " atah[helper]       1\n",
       "iŋeš[oil]           1\n",
       "hazin[ax]           1\n",
       "gi[thicket]         1\n",
       "pakud[~tree]        1\n",
       "dtype: int64"
      ]
     },
     "execution_count": 70,
     "metadata": {},
     "output_type": "execute_result"
    }
   ],
   "source": [
    "# 10 most uncommon words in the lines containing PN \n",
    "s.value_counts().tail(10)"
   ]
  },
  {
   "cell_type": "markdown",
   "metadata": {},
   "source": [
    "### Looking at lines containing common words "
   ]
  },
  {
   "cell_type": "code",
   "execution_count": 89,
   "metadata": {
    "collapsed": true
   },
   "outputs": [],
   "source": [
    "def filter_lines(word):\n",
    "    # return a series of lines containing the word\n",
    "    return pd.Series(list(filter(lambda x:word in x , ls2)))"
   ]
  },
  {
   "cell_type": "markdown",
   "metadata": {},
   "source": [
    "###### kišib[seal]"
   ]
  },
  {
   "cell_type": "code",
   "execution_count": 92,
   "metadata": {
    "collapsed": false,
    "scrolled": true
   },
   "outputs": [
    {
     "data": {
      "text/plain": [
       "kišib[seal]; PN                              12990\n",
       "kišib[seal]; PN; dumu[child]; PN               797\n",
       "kišib[seal]; namšatam[administration]; PN      224\n",
       "n; kišib[seal]; PN                             212\n",
       "n; gur[unit]; kišib[seal]; PN                  166\n",
       "kišib[seal]; PN; PN                            140\n",
       "gabari[copy]; kišib[seal]; PN                  123\n",
       "n; n; kišib[seal]; PN                          122\n",
       "n; udu[sheep]; kišib[seal]; PN                 114\n",
       "kišib[seal]; PN; šabra[administrator]          111\n",
       "dtype: int64"
      ]
     },
     "execution_count": 92,
     "metadata": {},
     "output_type": "execute_result"
    }
   ],
   "source": [
    "filter_lines(\"kišib[seal]\").value_counts().head(10)"
   ]
  },
  {
   "cell_type": "markdown",
   "metadata": {},
   "source": [
    "###### ŋiri[foot]"
   ]
  },
  {
   "cell_type": "code",
   "execution_count": 97,
   "metadata": {
    "collapsed": false
   },
   "outputs": [
    {
     "data": {
      "text/plain": [
       "ŋiri[foot]; PN                             6790\n",
       "ŋiri[foot]; PN; dubsar[scribe]             1004\n",
       "ŋiri[foot]; PN; sukkal[secretary]           529\n",
       "ŋiri[foot]; PN; dumu[child]; PN             432\n",
       "ŋiri[foot]; PN; šagia[cup-bearer]           167\n",
       "ŋiri[foot]; PN; šabra[administrator]        166\n",
       "ŋiri[foot]; PN; šarrabdu[administrator]     123\n",
       "ŋiri[foot]; PN; ragaba[rider]               120\n",
       "ŋiri[foot]; PN; PN                           97\n",
       "n; udu[sheep]; ŋiri[foot]; PN                85\n",
       "dtype: int64"
      ]
     },
     "execution_count": 97,
     "metadata": {},
     "output_type": "execute_result"
    }
   ],
   "source": [
    "filter_lines(\"ŋiri[foot]\").value_counts().head(10)"
   ]
  },
  {
   "cell_type": "markdown",
   "metadata": {},
   "source": [
    "###### ugula[overseer]"
   ]
  },
  {
   "cell_type": "code",
   "execution_count": 98,
   "metadata": {
    "collapsed": false
   },
   "outputs": [
    {
     "data": {
      "text/plain": [
       "ugula[overseer]; PN                          7891\n",
       "PN; ugula[overseer]                           293\n",
       "n; ŋuruš[male]; ugula[overseer]; PN           291\n",
       "n; ugula[overseer]; PN                        275\n",
       "ugula[overseer]; PN; PN                       149\n",
       "n; n; ŋuruš[male]; ugula[overseer]; PN        144\n",
       "n; n; ugula[overseer]; PN                     142\n",
       "ugula[overseer]; PN; dumu[child]; PN          131\n",
       "ugula[overseer]; PN; kuš[official]            121\n",
       "ugula[overseer]; PN; šabra[administrator]      90\n",
       "dtype: int64"
      ]
     },
     "execution_count": 98,
     "metadata": {},
     "output_type": "execute_result"
    }
   ],
   "source": [
    "filter_lines(\"ugula[overseer]\").value_counts().head(10)"
   ]
  },
  {
   "cell_type": "code",
   "execution_count": null,
   "metadata": {
    "collapsed": true
   },
   "outputs": [],
   "source": []
  }
 ],
 "metadata": {
  "kernelspec": {
   "display_name": "Python 3",
   "language": "python",
   "name": "python3"
  },
  "language_info": {
   "codemirror_mode": {
    "name": "ipython",
    "version": 3
   },
   "file_extension": ".py",
   "mimetype": "text/x-python",
   "name": "python",
   "nbconvert_exporter": "python",
   "pygments_lexer": "ipython3",
   "version": "3.6.0"
  }
 },
 "nbformat": 4,
 "nbformat_minor": 2
}
