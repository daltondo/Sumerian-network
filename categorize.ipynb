{
 "cells": [
  {
   "cell_type": "code",
   "execution_count": 31,
   "metadata": {
    "collapsed": true
   },
   "outputs": [],
   "source": [
    "# Import Libraries\n",
    "import re\n",
    "import numpy as np\n",
    "import pandas as pd\n",
    "from sklearn.naive_bayes import MultinomialNB\n",
    "from collections import OrderedDict, Counter\n",
    "from sklearn.feature_extraction.text import TfidfTransformer, CountVectorizer\n",
    "from sklearn.pipeline import Pipeline\n",
    "from sklearn import metrics\n",
    "from sklearn.cluster import DBSCAN\n",
    "from sklearn.feature_extraction.text import TfidfVectorizer\n",
    "from sklearn.metrics import confusion_matrix, classification_report, precision_score, recall_score, roc_auc_score"
   ]
  },
  {
   "cell_type": "markdown",
   "metadata": {},
   "source": [
    "# Extract Transactions"
   ]
  },
  {
   "cell_type": "code",
   "execution_count": 32,
   "metadata": {
    "collapsed": false
   },
   "outputs": [],
   "source": [
    "DREHEM_IDS = 'clean_drehem_ids.txt'\n",
    "QUEEN_ARCHIVES_IDS = 'queen_archives_pids.txt'\n",
    "QUEEN_OIP_IDS = 'oip_pids.txt'\n",
    "\n",
    "labels = {}\n",
    "labels[\"domesticated_animal\"] = [\"ox\", \"cow\", \"sheep\", \"goat\", \"lamb\"] # account for plural\n",
    "labels[\"wild_animal\"] = [\"bear\", \"gazelle\", \"mountain\"] # account for \"mountain animal\" and plural\n",
    "labels[\"dead_animal\"] = [\"[die]\"] # find \"die\" before finding domesticated or wild\n",
    "labels[\"leather_object\"] = [\"boots\", \"sandals\"]\n",
    "labels[\"precious_object\"] = [\"copper\", \"bronze\", \"silver\", \"gold\"]\n",
    "labels[\"wool\"] = [\"wool\"]\n",
    "labels[\"queens_archive\"] = []\n",
    "\n",
    "class Transaction:\n",
    "    def __init__(self, p_id):\n",
    "        self.p_id = p_id\n",
    "        self.lines = list()\n",
    "        self.lemmas = OrderedDict() # Maps Sumerian text to its lemmatized form\n",
    "        self.label = {} # Maps label to List of defining text\n",
    "        self.sumerian_lemmas = []\n",
    "        \n",
    "    # Create mapping of Sumerian text to its lemmatized form\n",
    "    def get_lemmatization(self):\n",
    "        first_line = 0\n",
    "        for i, s in enumerate(self.lines):\n",
    "            if s.startswith(\"1.\"):\n",
    "                  first_line = i\n",
    "                  break\n",
    "        while first_line < len(self.lines)-1:\n",
    "            if self.lines[first_line] and self.lines[first_line][0].isnumeric() and self.lines[first_line+1].startswith(\"#lem\"):\n",
    "                self.lemmas[self.lines[first_line]] = self.lines[first_line+1]\n",
    "                first_line += 2\n",
    "            else:\n",
    "                first_line += 1\n",
    "                \n",
    "        return self.lemmas\n",
    "    \n",
    "    # Get Sumerian lemmatized text only\n",
    "    def get_sumerian_lemma(self):\n",
    "        #print(item.sumerian_lemmas)\n",
    "        item.sumerian_lemmas = []\n",
    "        for k, v in self.lemmas.items():\n",
    "            #print(v)\n",
    "            result = re.findall(\" .*\\[[a-z]+\\]\", v)\n",
    "            if len(result) == 0:\n",
    "                continue\n",
    "            lemmas = [s[:s.index(\"[\")].strip() for s in result[0].split(\";\") if re.search(\"\\[\", s)]\n",
    "            self.sumerian_lemmas += lemmas\n",
    "        return self.sumerian_lemmas\n",
    "    \n",
    "    # Find the most likely label\n",
    "    def set_label(self):\n",
    "        def find_label(label, line, found) :\n",
    "            for val in labels[label]:\n",
    "                if val in line: \n",
    "                    if label in found.keys():\n",
    "                        found[label].append(line)\n",
    "                    else:\n",
    "                        found[label] = [line]\n",
    "                    return True\n",
    "        found = {}\n",
    "        for line in self.lines:\n",
    "            label = None\n",
    "            # Priority 1: Check for dead animal\n",
    "            if find_label(\"dead_animal\", line, found): break\n",
    "            # Priority 2: Check for wild animal\n",
    "            if find_label(\"wild_animal\", line, found): break\n",
    "            # Priority 3: Check for domesticated animal\n",
    "            if find_label(\"domesticated_animal\", line, found): break\n",
    "            # Priority 4: Check leather, wool, or precious object\n",
    "            if find_label(\"leather_object\", line, found): break\n",
    "            if find_label(\"precious_object\", line, found): break\n",
    "            if find_label(\"wool\", line, found): break\n",
    "        # If none match, label as \"Unknown\"\n",
    "        if len(found.keys()) == 0:\n",
    "            found[\"Unknown\"] = [self.lines]\n",
    "        self.label = found\n",
    "        return found\n",
    "            \n",
    "    \n",
    "# Read ORACC files to find transactions with p_ids in `ids`\n",
    "def read_files(subdir, ids):\n",
    "    transactions = list()\n",
    "    for i in range(1, 16):\n",
    "        file_name = \"\"\n",
    "        if i < 10:\n",
    "            file_name += subdir + \"p00\" + str(i) + \".atf\"\n",
    "        else:\n",
    "            file_name += subdir + \"p0\" + str(i) + \".atf\"\n",
    "        \n",
    "        curr_transaction = None\n",
    "        \n",
    "        with open(file_name, encoding=\"utf8\") as file:\n",
    "            print(\"Opening:\", file_name)\n",
    "            for line in file:\n",
    "                line = line.strip()\n",
    "                if line.startswith('&P'):\n",
    "                    p_id = line.split()[0][1:]\n",
    "                    if p_id in ids:\n",
    "                        ids.remove(p_id)\n",
    "                        if curr_transaction:\n",
    "                            transactions.append(curr_transaction)\n",
    "                        transaction = Transaction(p_id)\n",
    "                        curr_transaction = transaction\n",
    "                    else:\n",
    "                        if curr_transaction:\n",
    "                            transactions.append(curr_transaction)\n",
    "                        curr_transaction = None\n",
    "                else:\n",
    "                    if curr_transaction:\n",
    "                        curr_transaction.lines.append(line)\n",
    "        \n",
    "        if curr_transaction:\n",
    "            transactions.append(curr_transaction)\n",
    "    \n",
    "    #print(ids)\n",
    "    #assert len(ids) == 0\n",
    "    print(\"Number of transactions:\", len(transactions))\n",
    "    return transactions\n",
    "\n",
    "# Return the IDs of docs to annotate\n",
    "def get_drehem_ids(file):\n",
    "    lst = list()\n",
    "    with open(file, encoding=\"utf8\") as f:\n",
    "        for line in f:\n",
    "            line = line.strip()\n",
    "            lst.append(line)\n",
    "    return lst"
   ]
  },
  {
   "cell_type": "code",
   "execution_count": 33,
   "metadata": {
    "collapsed": false
   },
   "outputs": [
    {
     "name": "stdout",
     "output_type": "stream",
     "text": [
      "Opening: raw-data/p001.atf\n",
      "Opening: raw-data/p002.atf\n",
      "Opening: raw-data/p003.atf\n",
      "Opening: raw-data/p004.atf\n",
      "Opening: raw-data/p005.atf\n",
      "Opening: raw-data/p006.atf\n",
      "Opening: raw-data/p007.atf\n",
      "Opening: raw-data/p008.atf\n",
      "Opening: raw-data/p009.atf\n",
      "Opening: raw-data/p010.atf\n",
      "Opening: raw-data/p011.atf\n",
      "Opening: raw-data/p012.atf\n",
      "Opening: raw-data/p013.atf\n",
      "Opening: raw-data/p014.atf\n",
      "Opening: raw-data/p015.atf\n",
      "Number of transactions: 256\n",
      "Opening: raw-data/p001.atf\n",
      "Opening: raw-data/p002.atf\n",
      "Opening: raw-data/p003.atf\n",
      "Opening: raw-data/p004.atf\n",
      "Opening: raw-data/p005.atf\n",
      "Opening: raw-data/p006.atf\n",
      "Opening: raw-data/p007.atf\n",
      "Opening: raw-data/p008.atf\n",
      "Opening: raw-data/p009.atf\n",
      "Opening: raw-data/p010.atf\n",
      "Opening: raw-data/p011.atf\n",
      "Opening: raw-data/p012.atf\n",
      "Opening: raw-data/p013.atf\n",
      "Opening: raw-data/p014.atf\n",
      "Opening: raw-data/p015.atf\n",
      "Number of transactions: 270\n",
      "Opening: raw-data/p001.atf\n",
      "Opening: raw-data/p002.atf\n",
      "Opening: raw-data/p003.atf\n",
      "Opening: raw-data/p004.atf\n",
      "Opening: raw-data/p005.atf\n",
      "Opening: raw-data/p006.atf\n",
      "Opening: raw-data/p007.atf\n",
      "Opening: raw-data/p008.atf\n",
      "Opening: raw-data/p009.atf\n",
      "Opening: raw-data/p010.atf\n",
      "Opening: raw-data/p011.atf\n",
      "Opening: raw-data/p012.atf\n",
      "Opening: raw-data/p013.atf\n",
      "Opening: raw-data/p014.atf\n",
      "Opening: raw-data/p015.atf\n",
      "Number of transactions: 120\n"
     ]
    }
   ],
   "source": [
    "list_drehem_ids = get_drehem_ids(DREHEM_IDS)\n",
    "list_queen_ids = get_drehem_ids(QUEEN_ARCHIVES_IDS)\n",
    "list_oip_queen_ids = get_drehem_ids(QUEEN_OIP_IDS)\n",
    "#complete_list = list_drehem_ids + list_queen_ids + list_oip_queen_ids\n",
    "\n",
    "#all_transactions = read_files(\"raw-data/\", complete_list)\n",
    "non_queen_list = read_files(\"raw-data/\", list_drehem_ids)\n",
    "queen_training_list = read_files(\"raw-data/\", list_queen_ids)\n",
    "queen_test_set = read_files(\"raw-data/\", list_oip_queen_ids)"
   ]
  },
  {
   "cell_type": "code",
   "execution_count": 50,
   "metadata": {
    "collapsed": false
   },
   "outputs": [
    {
     "name": "stdout",
     "output_type": "stream",
     "text": [
      "470\n",
      "470\n",
      "176\n",
      "176\n"
     ]
    }
   ],
   "source": [
    "# Populate training and data set\n",
    "\n",
    "for item in queen_training_list:\n",
    "    item.get_lemmatization()\n",
    "    item.set_label()\n",
    "    \n",
    "for item in non_queen_list:\n",
    "    item.get_lemmatization()\n",
    "    item.set_label()\n",
    "    \n",
    "for item in queen_test_set:\n",
    "    item.get_lemmatization()\n",
    "    item.set_label()\n",
    "    \n",
    "training_data = []\n",
    "training_labels = []\n",
    "test_data = []\n",
    "test_labels = []\n",
    "\n",
    "for item in queen_training_list:\n",
    "    training_data.append(\" \".join(item.get_sumerian_lemma()))\n",
    "    training_labels.append(\"queen\")\n",
    "    \n",
    "for i in range(len(non_queen_list)):\n",
    "    if i < 200:\n",
    "        training_data.append(\" \".join(non_queen_list[i].get_sumerian_lemma()))\n",
    "        training_labels.append(\"not queen\")\n",
    "    else:\n",
    "        test_data.append(\" \".join(non_queen_list[i].get_sumerian_lemma()))\n",
    "        test_labels.append(\"not queen\")\n",
    "        \n",
    "for item in queen_test_set:\n",
    "    test_data.append(\" \".join(item.get_sumerian_lemma()))\n",
    "    test_labels.append(\"queen\")\n",
    "\n",
    "print(len(training_data))\n",
    "print(len(training_labels))\n",
    "print(len(test_data))\n",
    "print(len(test_labels))\n",
    "\n",
    "#print(training_data)\n",
    "# print(test_labels)"
   ]
  },
  {
   "cell_type": "markdown",
   "metadata": {},
   "source": []
  },
  {
   "cell_type": "markdown",
   "metadata": {},
   "source": [
    "# Multinomial Naive Bayes Classifer\n",
    "For classifying queen's archives transactions\n",
    "\n",
    "\n",
    "<b>Accuracy</b>: \n",
    "(# true positives + # true negatives) / total #<br><br>\n",
    "<b>Recall</b>:\n",
    "true positives / (true positives + false positives) <br>\n",
    "High recall means that an algorithm returned most of the relevant results <br><br>\n",
    "<b>Precision</b>:\n",
    "true positives / (true positives + false negatives) <br>\n",
    "High precision means that an algorithm returned substantially more relevant results than irrelevant ones"
   ]
  },
  {
   "cell_type": "code",
   "execution_count": 51,
   "metadata": {
    "collapsed": false
   },
   "outputs": [
    {
     "name": "stdout",
     "output_type": "stream",
     "text": [
      "(470, 320)\n",
      "(470, 320)\n",
      "Accuracy:  0.926136363636\n",
      "Recall:  0.883928571429\n",
      "Precision:  0.951127819549\n"
     ]
    }
   ],
   "source": [
    "# Bag of Words model\n",
    "count_vect = CountVectorizer(analyzer = \"word\",\n",
    "                                          tokenizer = None,    \n",
    "                                          preprocessor = None,\n",
    "                                          ngram_range = (1, 1),\n",
    "                                          binary = False,\n",
    "                                          strip_accents='unicode')\n",
    "\n",
    "X_train_counts = count_vect.fit_transform(training_data) # Learn the vocabulary dictionary and return term-document matrix.\n",
    "print(X_train_counts.shape)\n",
    "\n",
    "# Get TF-IDF\n",
    "tfidf_transformer = TfidfTransformer()\n",
    "X_train_tfidf = tfidf_transformer.fit_transform(X_train_counts)\n",
    "print(X_train_tfidf.shape)\n",
    "\n",
    "# Classifier\n",
    "bag_of_words_classifier = MultinomialNB().fit(X_train_tfidf, training_labels)\n",
    "\n",
    "# Predict\n",
    "X_new_counts = count_vect.transform(test_data)\n",
    "X_new_tfidf = tfidf_transformer.transform(X_new_counts)\n",
    "\n",
    "predicted = bag_of_words_classifier.predict(X_new_tfidf)\n",
    "\n",
    "# for doc, category in zip(docs_new, predicted):\n",
    "#     print('%r => %s' % (doc, category))\n",
    "    \n",
    "print(\"Accuracy: \", np.mean(predicted == test_labels))\n",
    "print(\"Recall: \", str(metrics.recall_score(test_labels, predicted, [\"queen\", \"not queen\"], average=\"macro\")))\n",
    "print(\"Precision: \", str(metrics.precision_score(test_labels, predicted, [\"queen\", \"not queen\"], average=\"macro\")))"
   ]
  },
  {
   "cell_type": "code",
   "execution_count": 55,
   "metadata": {
    "collapsed": false
   },
   "outputs": [
    {
     "name": "stdout",
     "output_type": "stream",
     "text": [
      "(470, 2126)\n",
      "(470, 2126)\n",
      "Accuracy:  0.920454545455\n",
      "Recall:  0.875\n",
      "Precision:  0.94776119403\n"
     ]
    }
   ],
   "source": [
    "# Bigram Model\n",
    "bigram_vectorizer = CountVectorizer(analyzer = \"word\",\n",
    "                                    tokenizer = None,\n",
    "                                    preprocessor = None,\n",
    "                                    ngram_range = (2, 2),\n",
    "                                    strip_accents='unicode')\n",
    "\n",
    "# Train\n",
    "X_train_counts = bigram_vectorizer.fit_transform(training_data) # Learn the vocabulary dictionary and return term-document matrix.\n",
    "print(X_train_counts.shape)\n",
    "\n",
    "# Get TF-IDF\n",
    "tfidf_transformer = TfidfTransformer()\n",
    "X_train_tfidf = tfidf_transformer.fit_transform(X_train_counts)\n",
    "print(X_train_tfidf.shape)\n",
    "\n",
    "# Classifier\n",
    "bigram_classifier = MultinomialNB().fit(X_train_tfidf, training_labels)\n",
    "\n",
    "# Predict\n",
    "X_new_counts = bigram_vectorizer.transform(test_data)\n",
    "X_new_tfidf = tfidf_transformer.transform(X_new_counts)\n",
    "\n",
    "bigram_multinomial_nb_prediction = bigram_classifier.predict(X_new_tfidf)\n",
    "\n",
    "print(\"Accuracy: \", np.mean(bigram_multinomial_nb_prediction == test_labels))\n",
    "print(\"Recall: \", str(metrics.recall_score(test_labels, bigram_multinomial_nb_prediction, [\"queen\", \"not queen\"], average=\"macro\")))\n",
    "print(\"Precision: \", str(metrics.precision_score(test_labels, bigram_multinomial_nb_prediction, [\"queen\", \"not queen\"], average=\"macro\")))"
   ]
  },
  {
   "cell_type": "code",
   "execution_count": 64,
   "metadata": {
    "collapsed": false
   },
   "outputs": [
    {
     "name": "stdout",
     "output_type": "stream",
     "text": [
      "(470, 4104)\n",
      "(470, 4104)\n",
      "Accuracy:  0.857954545455\n",
      "Recall:  0.781547619048\n",
      "Precision:  0.900932400932\n"
     ]
    }
   ],
   "source": [
    "# Trigram Model\n",
    "trigram_vectorizer = CountVectorizer(analyzer = \"word\",\n",
    "                                    tokenizer = None,\n",
    "                                    preprocessor = None,\n",
    "                                    ngram_range = (3, 3),\n",
    "                                    strip_accents='unicode')\n",
    "\n",
    "# Train\n",
    "X_train_counts = trigram_vectorizer.fit_transform(training_data) # Learn the vocabulary dictionary and return term-document matrix.\n",
    "print(X_train_counts.shape)\n",
    "\n",
    "# Get TF-IDF\n",
    "tfidf_transformer = TfidfTransformer()\n",
    "X_train_tfidf = tfidf_transformer.fit_transform(X_train_counts)\n",
    "print(X_train_tfidf.shape)\n",
    "\n",
    "# Classifier\n",
    "trigram_classifier = MultinomialNB().fit(X_train_tfidf, training_labels)\n",
    "\n",
    "# Predict\n",
    "X_new_counts = trigram_vectorizer.transform(test_data)\n",
    "X_new_tfidf = tfidf_transformer.transform(X_new_counts)\n",
    "\n",
    "trigram__prediction = trigram_classifier.predict(X_new_tfidf)\n",
    "\n",
    "print(\"Accuracy: \", np.mean(trigram_prediction == test_labels))\n",
    "print(\"Recall: \", str(metrics.recall_score(test_labels, trigram_prediction, [\"queen\", \"not queen\"], average=\"macro\")))\n",
    "print(\"Precision: \", str(metrics.precision_score(test_labels, trigram_prediction, [\"queen\", \"not queen\"], average=\"macro\")))"
   ]
  },
  {
   "cell_type": "code",
   "execution_count": 62,
   "metadata": {
    "collapsed": false
   },
   "outputs": [
    {
     "name": "stdout",
     "output_type": "stream",
     "text": [
      "(470, 2446)\n",
      "(470, 2446)\n",
      "Accuracy:  0.9375\n",
      "Recall:  0.901785714286\n",
      "Precision:  0.958015267176\n"
     ]
    }
   ],
   "source": [
    "# Unigram and Bigram Model\n",
    "uni_and_bigram_vectorizer = CountVectorizer(analyzer = \"word\",\n",
    "                                            tokenizer = None,\n",
    "                                            preprocessor = None,\n",
    "                                            binary = False,\n",
    "                                            ngram_range = (1,2),\n",
    "                                            strip_accents='unicode')\n",
    "\n",
    "# Train\n",
    "X_train_counts = uni_and_bigram_vectorizer.fit_transform(training_data) # Learn the vocabulary dictionary and return term-document matrix.\n",
    "print(X_train_counts.shape)\n",
    "\n",
    "# Get TF-IDF\n",
    "tfidf_transformer = TfidfTransformer()\n",
    "X_train_tfidf = tfidf_transformer.fit_transform(X_train_counts)\n",
    "print(X_train_tfidf.shape)\n",
    "\n",
    "# Classifier\n",
    "uni_and_bigram_classifier = MultinomialNB().fit(X_train_tfidf, training_labels)\n",
    "\n",
    "# Predict\n",
    "X_new_counts = uni_and_bigram_vectorizer.transform(test_data)\n",
    "X_new_tfidf = tfidf_transformer.transform(X_new_counts)\n",
    "\n",
    "uni_and_bigram_prediction = uni_and_bigram_classifier.predict(X_new_tfidf)\n",
    "\n",
    "print(\"Accuracy: \", np.mean(uni_and_bigram_prediction == test_labels))\n",
    "print(\"Recall: \", str(metrics.recall_score(test_labels, uni_and_bigram_prediction, [\"queen\", \"not queen\"], average=\"macro\")))\n",
    "print(\"Precision: \", str(metrics.precision_score(test_labels, uni_and_bigram_prediction, [\"queen\", \"not queen\"], average=\"macro\")))"
   ]
  },
  {
   "cell_type": "markdown",
   "metadata": {},
   "source": [
    "# Clustering\n",
    "\n",
    "GOAL: find more commodity labels in the set of non-queen data\n",
    "\n",
    "DBSCAN Model:\n",
    "Density-Based Spatial Clustering of Applications with Noise. Finds core samples of high density and expands clusters from them. Good for data which contains clusters of similar density"
   ]
  },
  {
   "cell_type": "code",
   "execution_count": 80,
   "metadata": {
    "collapsed": false
   },
   "outputs": [
    {
     "name": "stdout",
     "output_type": "stream",
     "text": [
      "Estimated number of clusters: 9\n"
     ]
    }
   ],
   "source": [
    "# Build DBSCAN model with Tf-idf vectorizer\n",
    "tfidfvec = TfidfVectorizer(ngram_range=(1,2), min_df = 0.0, max_df = 1.0, decode_error = \"ignore\")\n",
    "\n",
    "# Run DBSCAN\n",
    "trans_list = []\n",
    "\n",
    "for trans in non_queen_list:\n",
    "    trans_list.append(\" \".join([lemma[2:] for lemma in trans.lemmas]))\n",
    "    \n",
    "X1 = tfidfvec.fit_transform(trans_list).toarray()\n",
    "db1 = DBSCAN(eps=1.0, min_samples=len(q_list1)/100).fit(X1)  # Higher eps => More leniency to be same cluster\n",
    "core_samples_mask = np.zeros_like(db1.labels_, dtype=bool)\n",
    "core_samples_mask[db1.core_sample_indices_] = True\n",
    "\n",
    "labels1 = db1.labels_\n",
    "n_clusters_ = len(set(labels1)) - (1 if -1 in labels1 else 0) # Number of clusters in labels\n",
    "print('Estimated number of clusters: %d' % n_clusters_)"
   ]
  },
  {
   "cell_type": "code",
   "execution_count": 81,
   "metadata": {
    "collapsed": false
   },
   "outputs": [
    {
     "name": "stdout",
     "output_type": "stream",
     "text": [
      "[' 6(diš) udu  kišib₃ lu₂-{d}suen  ki ab-ba-kal-la-ta  ba-zi#  {d}šu-{d}suen  lugal kal-ga  lugal uri₅{ki}-ma  lugal an ub-da limmu₂-ba  ur-ku₃-nun-na#  dub-sar#  dumu [...]  ARAD₂-[zu]', ' 2(diš) udu  ki a-ba-{d}en-lil₂-gin₇-ta  ur-ku₃-nun-na  i₃-dab₅  iti ezem-mah  mu e₂ {d}šara₂ ba-du₃  {d}šu-{d}suen  lugal kal-ga  lugal uri₅{ki}-ma  lugal an ub-da limmu₂-ba  ur-ku₃-nun-na  dub-sar  dumu lu₂-{d}nin-gir₂-su [kurušda]  ARAD₂-zu', ' [n] gu₄ [niga]  ki puzur₄-{d}en-lil₂-ta  ur-ku₃-nun-na  i₃-dab₅  iti ezem-mah  mu e₂ {d}šara₂ umma#{ki} ba-du₃  {d}šu-{d}suen  lugal kal-ga  lugal uri₅{ki}-ma  lugal an ub-da limmu₂-ba  ur-ku₃-nun-na  dub-sar  dumu lu₂-{d}nin-gir₂-su kurušda  ARAD₂-zu', ' [x] gu₄  [ki] la-diš-ip-ta  ur-ku₃-nun-na  i₃-dab₅  iti a₂-ki-ti  mu {d}i-bi₂-{d}suen  {d}šu-{d}suen  lugal kal-ga  lugal uri₅{ki}-ma  lugal an ub-da limmu₂-ba  ur-ku₃-nun-na  dub-sar  dumu lu₂-{d}nin-gir₂-su kurušda  ARAD₂-zu', ' 1(diš) sila₄  ki ur-{d}ig-alim-ta  ur-ku₃-nun-na  i₃-dab₅  ša₃ unu{ki}  iti ezem-mah  mu e₂ {d}šara₂ ba-du₃  {d}šu-{d}suen  lugal kal-ga  lugal uri₅{ki}-ma  lugal an ub-da limmu₂-ba  ur-ku₃-nun-na  dub-sar  dumu lu₂-{d}nin-gir₂-[su kurušda]  [ARAD₂-zu]', ' 1(u) 1(diš)#? udu# x-tur  1(diš) udu# ur-nigar{gar}  9(diš) maš₂ kišib₃ didli  o o o 2(u) 1(diš)  ki sa₂-si₂-ta  ba-zi  iti ezem-mah  u₄ 1(diš)-kam  mu e₂ {d}šara₂  {d}šu-{d}suen  lugal kal-ga  lugal uri₅{ki}-ma  lugal an ub-da limmu₂-ba  ur-ku₃#-[nun-na]  dub-sar  dumu lu₂#-[{d}nin-gir₂-su kurušda]  ARAD₂-zu']\n",
      "\n",
      "[' 2(diš) udu niga  1(diš) sila₄ ga  ba-uš₂  u₄ 5(diš)-kam  ki lu₂-dingir-ra-ta  ur-nigar{gar}  šu ba-ti  iti šu-eš₅-ša  mu ki-maš{ki} u₃ hu-ur₅-ti{ki} ba-hul', ' 1(diš) maš₂-gal niga 4(diš)? udu  ba-uš₂  u₄ 2(u) 4(diš)-kam  ša₃ unu{ki}-ga  ki lu₂-dingir-ra-ta  ur-nigar{gar}  šu ba-ti  iti u₅-bi₂-gu₇  mu# [{d}]amar#-{d}suen lugal', ' 1(diš) udu a? x saga?  1(diš) udu niga  1(diš) maš₂-gal niga  1(diš) udu  2(diš) sila₄ ga  1(diš) kir₁₁ ga  ba-uš₂  u₄ 1(u) 1(diš)-kam  ki lu₂-dingir-ra-ta  ur-nigar{gar}  šu ba-ti  iti še-sag₁₁-ku₅  mu {d}amar-{d}suen lugal', ' 2(diš) udu niga saga us₂  1(diš) gukkal niga  1(diš) u₈ niga  1(diš) udu  1(diš) ud₅  4(diš) sila₄  1(diš) kir₁₁  ba-uš₂ u₄ 1(u) 6(diš)-kam  ki lu₂-dingir-ra-ta  ur-nigar{gar}  šu ba-ti  iti ki-siki-{d}nin-a-zu  mu {d}amar-{d}suen lugal', ' 2(diš) udu  1(diš) sila₄  1(diš) sila₄ ga  ba-uš₂  u₄ 8(diš)-kam  ki na-lu₅-ta  ur-nigar{gar}  šu ba-ti  iti maš-da₃-gu₇  mu us₂-sa ki-maš{ki} ba-hul', ' 2(diš) gu₄ niga  1(diš) amar gu₄  2(diš) udu niga  1(diš) gukkal niga  1(diš) sila₄#?  1(diš) kir₁₁ niga  1(diš) maš₂-gal niga  1(diš) ud₅ niga  1(diš) {munus}aš₂-gar₃  1(diš) udu?  7(diš) maš₂-gal  5(diš) x  1(diš) sila₄ bar-[gal₂]  ba-uš₂ u₄ 2(u) 2(diš)-[kam]  ki lu₂-dingir-ra-ta#  ur-nigar{gar} šu ba-ti#  iti maš-da₃-gu₇ . mu us₂-sa ki-maš{ki} u₃ hu-ur₅-ti{ki} ba-hul', ' 1(diš) udu niga  3(diš) sila₄# [...]  1(diš) maš₂-gal  ba-uš₂  u₄ 5(diš)-kam  ki lu₂-dingir-ra#-[ta]  ur-nigar[{gar}]  šu ba-ti#  iti ses-da-gu₇  mu {d}amar-{d}suen lugal-e {geš}gu-za {d}en-lil₂ in-dim₂', ' 1(diš) gu₄ niga sag-gu₄  1(diš) amar gu₄ ga mar-tu  3(diš) kir₁₁ ga  3(diš) maš₂ ga  ba-uš₂ u₄ 1(u) 7(diš)-kam  ki lu₂-dingir-[ra]  ur-nigar{gar}  šu ba-ti  iti ezem-an-na  mu ki-maš{ki} u₃ hu-ur₅-ti{ki} ba-hul']\n",
      "\n",
      "[' igi 3(diš)-gal₂ 5(diš) še ku₃  ki {d}šara₂-za-me-ta  da-da-ga  mu si-mu-ru-um{ki} lu-lu-bu a-ra₂ 1(u) la₂ 1(diš)-kam-aš ba-hul', ' 1/2(diš) ma-na 9(diš) gin₂ ku₃-babbar  la₂-ia₃ su-ga udu  ki ba-sa₆-ta  ugu₂ da-da-ga ba-a-gar  kišib₃ ur-{d}šara₂  mu si-mu-ru-um{ki}  lu-lu-bu a-ra₂ 1(u) la₂ 1(diš)-kam ba-hul', ' 1/2(diš) ma#-na# ku₃-babbar  la₂-ia₃ su-ga siki#  ki ur-{geš}gigir sipa-ta  ugu₂ da-da-ga ba-a-gar  kišib₃ ur-{d}šara₂  mu si-mu-ru-um{ki} lu-lu-bu a-ra₂ 1(u) la₂ 1(diš@t)-kam ba-hul', ' 2(diš) gin₂ ku₃  la₂-ia₃ su-ga  ki ur-{d}en-ki lunga-ta  da-da-ga  šu ba-ti  mu si-mu-ru-um{ki} lu-lu-bu a-ra₂ 1(u) la₂ 1(diš@t)-kam-aš ba-hul']\n",
      "\n",
      "[' 2(diš) udu 2(diš) maš₂ 1(diš) sila₄ {d}en-lil₂  2(diš) udu 2(diš) maš₂ 1(diš) sila₄ {d}nin-lil₂  1(diš) sila₄ {d}nanna  1(diš) sila₄ {d}nusku  1(diš) sila₄ {d}nin-urta  ša₃ e₂ {d}nin-lil₂-la₂  1(diš) sila₄ {d}nin-ti₂-ug₅-ga  1(diš) sila₄ {d}nin-hur-sag  1(diš) sila₄ {d}en-ki . 1(diš) sila₄# {d}šul-gi . [a₂ ge₆]-ba-a . 2(diš) sila₄ du₆-[ku₃] . en-{d}nanše-ki-ag₂ maškim . u₄ 2(u) 8(diš)-[kam] . šu+nigin 1(diš) ab₂ mu [x] 1(u) 3(diš) udu . šu+nigin 3(u) la₂ 1(diš) udu# 1(u) 1(diš) maš₂ . bala a-hu-ma ensi₂ nibru{ki} . ki ab-ba-sa₆-ga-ta ba-zi . iti šu-eš-ša . mu {d}amar-{d}suen lugal  5(u) 4(diš)', ' 1(diš) sila₄ lugal-a₂-zi-da  1(diš) sila₄ {d}šara₂-kam ensi₂  1(diš) amar maš-da₃  bur-ma-ma dam-gar₃  o o o 3(diš)  u₄ 1(diš)-kam  u₄ 1(u)-a u₄ 2(diš)-kam  1(diš) maš₂ ur-{d}šul-pa-e₃ ra₂-gaba  2(diš) sila₄ en {d}inanna . 1(diš) sila₄ ensi₂ eriš₂{ki} . 1(diš) sila₄ i-bi₂-zu nu-banda₃ . 1(diš) sila₄ ensi₂ nibru{ki} . o o o 6(diš) . u₄ 3(diš)-kam . 4(diš) udu niga . 1(diš) sila₄ . {d}šara₂-kam ensi₂ . 1(diš) sila₄ lugal-dub-sar di-ku₅ . 1(diš) sila₄ ur-mes ensi₂ . a₂-bi₂-li₂-a nu-banda₃ . o o o 8(diš) . u₄ 4(diš)-kam . 2(diš) sila₄ wa-ta₂-ru-um sanga . o o o 2(diš) . [u₄] 5(diš)-kam . [...]-gi₄ [...] . [...]  3(diš) udu niga  1(diš) sila₄ ensi₂ urumₓ(|UR₂×U₂|){ki}  1(diš) sila₄  1(diš) maš₂-da₃  {d}šul-gi-na-da  1(diš) u₈  1(diš) sila₄ ga  1(diš) kir₁₁ ga  i₃-lal₃-lum . 1(diš) sila₄ šu-i₃-li₂ sukkal . 1(u) 3(diš) . u₄ 7(diš)-kam . 2(diš) gu₄ . 1(u) 4(diš) udu . 1(diš) sila₄ . 5(diš) maš₂-gal . šu-e₂-a nu-banda₃-gu₄ . ugula lugal-ma₂-gur₈-re . 2(diš) sila₄ . wa-ta₂-ru-um sanga . 1(diš) udu i-gi₄-ru-mah . 2(diš) udu AN-AN-ma-lik . 1(diš) sila₄ . i-me-er nu-banda₃ . 1(diš) amar maš-da₃ . nir-i₃-da-gal₂ . 1(diš) sila₄ . i-šar-ra-ku?-da-aš . o o o 3(u) . u₄ 8(diš)-kam . 3(diš) udu a-lum . 1(diš) udu a-lum ga . du₁₀-i₃-li₂ . ugula i₃-lal₃-lum . 1(diš) amar maš-da₃ . wa-ta₂-ru-um sanga . 5(diš) . [u₄] 1(u) la₂ 1(diš@t)-kam . [1(diš)] x a#-ba#-{d}en-lil₂  1(diš) amar maš-da₃  du-uk-ra  o o o 2(diš)  u₄ 1(u)-kam  2(diš) sila₄  ur-mes ensi₂  1(diš) sila₄ ensi₂ a-pi₅-ak{ki}  1(diš) sila₄ a-a-mu  1(diš) sila₄ a-da-gal . 1(diš) sila₄ ensi₂ adab{ki} . o o o 6(diš) . u₄ 1(u) 1(diš)-kam . 2(diš) gu₄ niga . 6(diš) udu niga . 1(u) 3(diš) udu . 1(diš) maš₂ . wa-ta₂-ru-um sanga . 2(diš) gu₄ niga . 6(diš) udu niga gu₄-e-us₂-sa . 1(u) 3(diš) udu . 1(diš) maš₂ . ensi₂ nibru{ki} . mu-kuₓ(DU) a₂-ki-ti še-sag₁₁-ku₅ . 1(diš) sila₄ lu₂-sa₆-ga šabra . 2(diš) udu niga . 1(diš) sila₄ . nu-ur₂-{d}da-gan . 1(diš) sila₄ . lu₂-{d}inanna šu-ku₆ . 3(diš) udu . 1(diš) sila₄ . i-ga-ri . 2(diš) sila₄ . 1(diš) amar maš-da₃ . id-da-a . 1(diš) sila₄ ur-{d}suen . 5(u) 7(diš) . u₄ 1(u) 2(diš)-kam . [2(diš)] amar maš-da₃ . [ša₃-ga]-na-kum  1(diš) [...]  x x [...]  1(diš) maš₂ ur-nig₂  1(diš) udu ge₆ geš-du₃  na-ra-am-e₂-a  1(diš) sila₄  lu₂-{d}nin-gir₂-su šabra  o o o 6(diš)  u₄ 1(u) 3(diš)-kam . 1(diš) udu niga . 1(diš) udu a-lum niga . 1(diš) u₈ niga . za-na-a šitim . 1(diš) sila₄ ur-mes ensi₂ . i-mi-id-dingir šabra . 1(diš) sila₄ šeš-sa₆-ga . 2(diš) amar maš-da₃ . ARAD₂-mu . o o o 8(diš) . u₄ 1(u) 4(diš)-kam . 1(diš) sila₄ . kur-giri₃-ni-i₃-dab₅!(ŠE₃) . 1(diš) sila₄ . gu₃-de₂-a ensi₂ . 1(diš) amar maš-da₃ . šeš-kal-la aga₃-us₂ . o o o 3(diš) . u₄ 1(u) 5(diš)-kam . 1(diš) sila₄ e-du-[x] . 1(diš) x . gu₃-de₂-a ensi₂ . 1(diš) sila₄ šar-ru-um-i₃-li₂ . 1(diš) maš₂ nig₂-e₂-nig₂-ki-du₁₀ . o o o 4(diš) . u₄ 1(u) 6(diš)-kam . 1(diš) sila₄ a₂-bi₂-la . 1(diš) sila₄ ga . ni-za-ni-lu₂-zi . [...] x x . [...]  [...]  1(diš) [...]  KA? x [...]  1(diš) [x]  lu₂-{d}[...]  2(diš) sila₄ [...]  1(diš) udu a-[lum]  lugal-x-[...]  o o o 2(diš) [n] . u₄ 1(u) 7(diš)!-[kam] . 1(diš) [sila₄] . za-ri₂!-[iq] lu₂# [aš-šur₆] . 1(diš) [sila₄] . ensi₂# [adab{ki}] . lugal-[...] . o o o 4(diš)! . u₄ 1(u) 8(diš)-[kam] . u₄ 1(u)-a u₄ 2(u) la₂ 1(diš)-[kam] . 1(diš) sila₄ . 1(diš) sila₄ . ha-an-za-ab-tum . ensi₂ nibru{ki} . 1(diš) sila₄ ku-um ensi₂ . 1(diš) sila₄ lu₂-dingir-ra šabra . o o o 6(diš) . u₄ 2(u)-kam . 1(diš) sila₄ . 1(diš) amar maš-da₃ . lugal-a₂-zi-da . 1(diš) sila₄ a-da-x-[x] . 1(diš) [...] . al-[...] . 1(diš) sila₄ [...] . 1(diš) [...] . a-ad-[...] . [...]  1(u) [...]  1(diš) šeg₉-bar [x]  1(u) 6(diš) udu?  1(diš) sila₄  4(diš) maš₂-gal  1(diš) pirig  za-ri₂-iq lu₂ as₂-sur{ki}  1(u) la₂ 1(diš) udu . 3(diš) udu a-lum . 8(diš) maš₂-gal . šu-mi-in-ni . a-ba-u₃ mar-tu . 2(diš) sila₄ . ensi₂ nibru{ki} . 1(diš) sila₄ ARAD₂-mu . 2(diš) {munus}aš₂-gar₃ niga . i₃-lal₃-lum . 1(diš) sila₄ da-da gala . 1(geš₂) 1(u) la₂ 1(diš) . u₄ 2(u) 2(diš)-kam . 1(diš) sila₄ ur-mes ensi₂ . 1(diš) sila₄ da-da dumu-lugal . 1(diš) sila₄ id-da#-[a] . o o o 3(diš) . u₄ 2(u) 3(diš)-[kam] . 2(diš) sila₄ wa-ta₂-ru-[um sanga] . 2(diš) sila₄ ensi₂ [...] . 1(diš) sila₄ ku₃-{d}nin-[gal] . o o o 5(diš) . u₄ 2(u) 4(diš)-kam . 1(diš) sila₄ . {d}šul-gi-i₃-li₂ . 1(diš) sila₄ dingir-zu-x-[...] . 1(diš) sila₄ šu-da-[da] . 1(diš) sila₄ [...]  [...] x x  [...] ig-mu-lum  1(diš) sila₄ udu e₂-an-na  x x tur nu-banda₃  1(diš) sila₄ nimgir-di-de₃ nu-banda₃  1(diš) sila₄ a-pu₂-a  1(diš) sila₄ ama-zi-mu  1(diš) sila₄ be₆-bu-ru gala-mah . 1(diš) sila₄ ga-na-za dub-sar . 1(diš) maš₂-gal . 1(diš) sila₄ . a₂-bi₂-la-ti nu-banda₃ . 1(diš) sila₄ ur-{d}ba-ba₆ . 1(diš) sila₄ ur-{d}ištaran . 1(diš) sila₄ en {d}inanna . 1(diš) sila₄ lugal-sal₄-x . o o o 1(u) 7(diš) . u₄ 2(u) 6(diš)-kam . 1(diš) sila₄ . 1(diš) kir₁₁ a-lum . en {d}inanna . 1(diš) gukkal . 1(diš) u₈ gukkal . 1(diš) sila₄ . šar-ru-um-i₃-li₂ . ṣe-lu-uš-{d}da-gan . 1(diš) maš₂ nu-ur₂-eš₁₈?-dar? . 2(diš) sila₄ . en-nam-šita-{d}šul-gi-ra-ke₄-ba-gub . 1(diš) sila₄ lu₂-dingir-ra . 4(diš) udu niga . 1(diš) sila₄ niga . en-ur₂-ku₃-ge . 1(u) 5(diš) . u₄ 2(u) 7(diš)-<kam>  [...]  [...]  1(diš) sila₄ šeš-sa₆-ga  1(diš) sila₄ ama-zi-mu  1(diš) sila₄ lu₂-{d}nin-gir₂-su  1(diš) sila₄ {d}šul-gi-ba-ni  5(diš) udu 1(diš) sila₄  u₂-u₂-mu . 2(diš) sila₄ ARAD₂-mu . 1(diš) sila₄ ur-{d}x-x . o o o 1(u) 8(diš) . u₄ 2(u) 8(diš)-kam . 1(diš) sila₄ na-ah-šum-bala . ur-ad-gi₄-gi₄ gala-mah iri-sa₁₂-rig₇{ki} . 1(diš) sila₄ ur-nigar{gar} ab₂-ri₂-ig eš₃ . 2(diš) udu niga gu₄-e-us₂-sa . 1(diš) sila₄ ur-{d}nin-sun₂ šabra . o o o 6(diš) . u₄ 3(u) la₂ 1(diš@t)-kam . šu+nigin 4(diš) gu₄ niga . šu+nigin 1(u) 2(diš) gu₄ . šu+nigin 1(diš) šeg₉-bar munus . šu+nigin 2(u) udu niga . šu+nigin 1(diš) udu a-lum niga . šu+nigin 1(diš) udu a-lum geš-du₃ niga . šu+nigin 8(diš) udu niga gu₄-e-us₂-sa . šu+nigin 1(diš) sila₄ niga  [šu+nigin x]  šu+nigin [x]  šu+nigin 1(diš) gukkal geš-du₃  šu+nigin 1(u) 7(diš) udu a-lum  šu+nigin 1(diš) udu a-lum geš-du₃  šu+nigin 1(geš₂) 5(u) 5(diš) sila₄  šu+nigin 1(diš) sila₄ maš  šu+nigin 1(diš) u₈  šu+nigin 1(diš) u₈ gukkal . šu+nigin 3(diš) kir₁₁ maš . šu+nigin 1(diš) kir₁₁ a-lum . šu+nigin 2(u) la₂ 1(diš) maš₂-gal . šu+nigin 1(u) la₂ 1(diš) maš₂ . šu+nigin 1(diš) maš₂-da₃ . šu+nigin 1(u) 2(diš) amar maš-da₃ . šu+nigin 1(diš) pirig . šu+nigin₂ 4(diš) gu₄ niga . šu+nigin₂ 1(u) 2(diš) gu₄ . šu+nigin₂ 1(diš) šeg₉-bar munus . šu+nigin₂ 3(u) 1(diš) udu niga . šu+nigin₂ 1(diš) u₈ niga . šu+nigin₂ 2(diš) ud₅ niga . šu+nigin₂ 3(geš₂) 3(u) 5(diš) udu . šu+nigin₂ 6(diš) u₈ . šu+nigin₂ 2(u) 8(diš) maš₂ . šu+nigin₂ 1(u) 3(diš) maš-da₃ . šu+nigin₂ 1(diš) pirig  nigin₂-ba 1(u) 6(diš) gu₄  nigin₂-ba 1(diš) šeg₉-bar munus  nigin₂-ba 4(geš₂) 6(diš) udu  nigin₂-ba 7(diš) u₈  nigin₂-ba 2(u) 8(diš) maš₂  nigin₂-ba 2(diš) ud₅  nigin₂-ba 1(u) 3(diš) maš-da₃  nigin₂-ba 1(diš) pirig  nigin-ba 1(u) 6(diš) gu₄ . nigin-ba 1(diš) šeg₉-bar . nigin-ba 4(geš₂) 4(u) 3(diš) udu maš₂ hi-a . nigin-ba 1(u) 3(diš) maš-da₃ . nigin-ba 1(diš) pirig . o o o 5(geš₂) 1(u) 4(diš) . mu-kuₓ(DU) lugal . ab-ba-sa₆-ga . i₃-dab₅ . iti še-sag₁₁-ku₅ . mu en-unu₆-gal {d}inanna ba-hun', ' 1(diš) gu₄ u₄ 8(diš)-kam  5(diš) gu₄ 3(diš) ab₂  u₄ 1(u) 2(diš)-kam  1(u) 4(diš) gu₄ mu 3(diš)  1(diš) ab₂ 3(diš) ab₂ mu 3(diš)  1(diš) {anše}kunga₂-nita₂  4(diš) {anše}kunga₂ munus  [u₄] 1(u) 3(diš)-kam  [2(diš)] {anše}kunga₂-nita₂ . [u₄] 2(u)-kam . 1(diš) gu₄ u₄ 2(u) 6(diš)-kam . šu+nigin 8(diš) gu₄ . šu+nigin 1(u) 4(diš) gu₄ mu 3(diš) . šu+nigin 4(diš) ab₂ . šu+nigin 3(diš) ab₂ mu 3(diš) . šu+nigin 3(diš) {anše}kunga₂-nita₂ . šu+nigin 4(diš) {anše}kunga₂ munus . mu-kuₓ(DU) ki du₁₁-ga-ta . {d}en-lil₂-la₂ i₃-dab₅ . iti ezem-mah . mu ma₂-dara₃-abzu {d}en-ki-ka ba-ab-du₈  3(u) la₂ 1(diš) gu₄ 7(diš) anše', ' 5(u) 1(diš) udu niga  4(u) 3(diš) udu niga gu₄-e-us₂-sa  u₄ 1(diš)-kam  1(diš) udu niga 4(diš)-kam us₂  u₄ 2(diš)-kam  2(diš) gu₄ u₂  4(diš) gu₄ mu 3(diš)  1(u) 3(diš) gu₄ mu 2(diš)  1(diš) ab₂ u₂ . 2(diš) ab₂ mu 2(diš) . 1(diš) udu a-lum niga 3(diš)-kam us₂ . 2(diš) udu niga . 5(diš) gukkal niga . 5(diš) udu a-lum niga . 2(diš) gukkal u₂ . 1(u) 6(diš) sila₄ u₂ . 2(u) 3(diš) udu a-lum u₂ . 2(diš) gukkal u₂ . 1(u) 4(diš) gukkal geš-du₃ u₂ . u₄ 3(diš)-kam . 1(u) sila₄ . u₄ 4(diš)-kam . 1(u) sila₄ . u₄ 5(diš)-kam . 1(diš) gu₄ niga 3(diš)-kam us₂ . 3(diš) udu niga . 1(u) sila₄  u₄ [6(diš)-kam]  2(diš) udu [...]  u₄ [7(diš)-kam]  5(diš) udu [...]  2(u) 2(diš) maš₂ [...]  5(u) 2(diš) ud₅  u₄ 1(u)-kam  1(diš) udu a-lum u₂  u₄ 1(u) 1(diš)-kam . 6(diš) gu₄ [...] . 2(geš₂) 4(u) 1(diš) udu [...] . 6(diš) maš₂-gal . u₄ 1(u) 4(diš)-kam . 1(diš) udu niga 3(diš)-kam us₂ . u₄ 1(u) 9(diš)-kam . 2(diš) udu a-lum niga . 1(u) 2(diš) udu u₂ . 1(geš₂) maš₂-gal u₂ . u₄ 2(u) 3(diš)-kam . 1(u) 7(diš) gukkal u₂ . 2(diš) gukkal geš-du₃ u₂ . 1(u) 9(diš) udu gukkal u₂ . u₄ 2(u) 5(diš)-kam . 1(diš) am gu₄ . 2(diš) gu₄ u₂ . 1(geš₂) 4(u) 3(diš) udu u₂  3(diš) maš₂-gal  u₄ 2(u) 6(diš)-[kam]  šu+nigin 1(diš) gu₄ niga 3(diš)-kam us₂  šu+nigin 1(u) 5(diš) gu₄ u₂  šu+nigin 1(diš) ab₂ u₂  šu+nigin 4(diš) gu₄ mu 3(diš)  šu+nigin 1(u) 3(diš) gu₄ mu 2(diš)  šu+nigin 2(diš) ab₂ mu 2(diš)  šu+nigin 1(diš) am gu₄ . šu+nigin 1(diš) udu niga 3(diš)-kam us₂ . šu+nigin 1(diš) udu a-lum niga 3(diš)-kam us₂ . šu+nigin 1(diš) udu niga 4(diš)-kam us₂ . šu+nigin 5(u) 3(diš) udu [...] . šu+nigin 5(diš) gukkal [...] . šu+nigin 7(diš) udu [...] . šu+nigin 4(u) 1(diš) [...] . šu+nigin 2(diš) [...] . šu+nigin 1(diš) [...]  šu+nigin 3(u) 4(diš) gukkal u₂  šu+nigin 1(u) 6(diš) gukkal geš-du₃ u₂  šu+nigin 2(u) 4(diš) udu a-lum u₂  šu+nigin 2(u) 1(diš) udu gukkal u₂  šu+nigin 3(u) 2(diš) maš₂-gal u₂  šu+nigin 5(u) 2(diš) ud₅ u₂  šu+nigin 3(diš) sila₄  3(u) 6(diš) gu₄  1(diš) am . 8(geš₂) 3(u) 6(diš) udu . ki in-ta-e₃-a-ta . du-u₂-du . i₃-dab₅ . iti ki-siki-{d}nin-a-zu . mu {d}šu-{d}suen lugal uri₅{ki}-ma-ke₄ na-ru₂-a-mah {d}en-lil₂ {d}nin-lil₂-ra mu-ne-du₃', ' 1(diš) udu [...]  1(diš) [...]  u₄ 1(diš)-kam  2(diš) udu [...]  3(diš) gukkal niga  4(diš) udu a-lum niga  1(diš) maš₂-gal niga  1(diš) udu u₂  1(diš) maš₂-gal u₂ . u₄ 7(diš)-kam . 1(diš) udu a-lum niga 4(diš)-kam us₂ . u₄ 8(diš)-[kam] . 1(diš) gukkal [x] . 2(diš) udu a-lum u₂ . 1(diš) maš₂-gal [...] . 4(diš) udu u₂ . 1(diš) udu a-lum niga . 3(diš) maš₂-gal u₂ . u₄ 9(diš)-[kam] . 1(diš) udu niga . 4(diš) udu [x]  u₄ [x-kam]  1(diš) udu [...]  u₄ [x-kam]  4(diš) [...]  1(diš) [...]  1(diš) [...]  u₄ [x-kam]  šu+nigin [...] a. šu+nigin [...] b. šu+nigin 8(diš) [...] š. šu+nigin 4(diš) [...] d. šu+nigin 7(diš) [...] e. šu+nigin 2(diš) maš₂ [...] f. šu+nigin 1(u) [...] g. šu+nigin 1(diš) udu a-lum [...] h. šu+nigin 1(u) 1(diš) [...] i. šu+nigin 1(diš) [...] . ki in-[ta-e₃-a-ta] . nu x [...] . iti ezem-[...] . mu {d}šu-{d}suen [bad₃] ma-da [mu-du₃]']\n",
      "\n",
      "[' 6(diš) sila₄  u₄ 2(u) 7(diš)-kam  ki ab-ba-sa₆-ga-ta  in-ta-e₃-a  i₃-dab₅  iti u₅-bi₂-gu₇  mu en-unu₆-gal {d}inanna ba-hun  6(diš)', ' 1(diš) udu  1(u) 5(diš) maš₂-gal  u₄ 1(u) 3(diš)-kam  ki ab-ba-sa₆-ga-ta  na-lu₅ i₃-dab₅  iti šu-eš₅-ša  mu hu-uh₂-nu-ri{ki} ba-hul  1(geš₂) 1(u) 5(diš)', ' 2(u) 7(diš) udu  4(diš) sila₄  5(u) 5(diš) maš₂-gal  u₄ 3(u)-kam  ki ab-ba-sa₆-ga-ta  in-ta-e₃-a  i₃-dab₅  iti šu-eš₅-ša  mu hu-uh₂-nu-ri{ki} ba-hul  1(geš₂) 3(u)', ' 4(diš) sila₄  u₄ 2(u) 5(diš)-kam  ki ab-ba-sa₆-ga-ta  in-ta-e₃-a i₃-dab₅  iti ezem-mah  mu hu-uh₂-nu-ri{ki} ba-hul  4(diš)', ' 2(diš) ud₅  1(u) 7(diš) maš₂  u₄ 2(u) 8(diš)-kam  ki ab-ba-sa₆-ga-ta  in-ta-e₃-a  i₃-dab₅  iti ezem-mah?  mu hu-uh₂-nu-ri{ki} ba-hul  2(u) la₂ 1(diš)', ' 1(u) la₂ 1(diš) udu  2(u) sila₄  8(diš) maš₂  u₄ 2(u) 8(diš)-kam  ki ab-ba-sa₆-ga-ta  in-ta-e₃-a i₃-dab₅  iti ezem-mah  mu hu-uh₂-nu-[ri{ki}] ba-hul  3(u) 7(diš)']\n",
      "\n",
      "[' 4(diš) udu a-lum niga 3(diš)-kam us₂  8(diš) udu niga 4(diš)-kam us₂  1(diš) sila₄  be-li₂-a-ri₂-ik  2(diš) maš₂-gal niga 4(diš)-kam us₂  1(diš) sila₄  ṣe-lu-uš-{d}da-gan  4(diš) udu u₂  1(diš) sila₄ . ku-ba-ba-e . 4(diš) udu niga saga  6(diš) udu a-lum niga [saga]  2(u) udu a-lum niga saga us₂  3(u) udu a-lum niga 3(diš)-kam us₂  ba-ba-ti  u₄ 5(diš)-kam  mu-kuₓ(DU) lugal  in-ta-e₃-a i₃-dab₅  [giri₃] nu-ur₂-{d}suen dub-sar  iti# u₅-bi₂-gu₇ . mu us₂-sa {d}šu-{d}suen lugal uri₅{ki}-ma-ke₄ si-ma-num₂{ki} mu-hul  1(geš₂) 2(u) 1(diš) udu  nu-ur₂-{d}suen  dub-sar  dumu i-di₃-er₃-ra', ' [x] maš₂ niga 3(diš)-kam us₂  1(diš) udu niga 4(diš)-kam us₂  1(diš) {munus}aš₂-gar₃ niga 4(diš)-kam us₂  siskur₂ {d}inanna ša₃ e₂-gal  {d}nanna-igi-du sagi maškim  a₂-ge₆-ba-a  5(diš) udu niga gu₄-e-us₂-sa  5(diš) maš₂-gal niga gu₄-e-us₂-sa  i-zi-in-{d}da-gan . 3(diš) udu niga gu₄-e-us₂-sa . kur-bi-la-ak . lu₂ eb-la{ki}-me-eš₂ . 5(diš) udu niga gu₄-e-us₂-sa . 5(diš) maš₂-gal niga gu₄-e-us₂-sa . a-bu-du₁₀ lu₂ ma-ri₂{ki} . 5(diš) udu niga gu₄-e-us₂-sa . i-pi₂-iq-re-e-u₂ mar-tu ia₃-a-ma-di₃-um . iri-ne-ne-še₃ du-ni . ma₂-a ba-ne-gub . 3(diš) udu niga gu₄-e-us₂-sa . 2(diš) maš₂-gal niga gu₄-e-us₂-sa  i₃-u₃-ša dumu me-ša#-[nu-nu?] šimašgi  giri₃ ur-sukkal sukkal  ARAD₂-mu maškim  2(diš) udu niga saga us₂  8(diš) udu niga 3(diš)-kam us₂  a-bi₂-si₂-im-ti  tu-ra-am-{d}da-gan maškim  a₂ u₄!-te-na  u₄ 1(u) 4(diš)-kam . [ki a]-ba-{d}en-lil₂-gin₇-ta . [ba]-zi . [ša₃] nibru{ki} . giri₃ lu₂-{d}nin-šubur dub-sar . iti ezem-{d}šu-{d}suen . mu {d}šu-{d}suen lugal uri₅{ki}-ma-ke₄ na-ru₂-a-mah {d}en-lil₂ [{d}]nin-lil₂-ra [mu]-ne-du₃', ' 1(diš) udu niga saga  1(diš) maš₂-gal niga saga  1(diš) udu niga saga us₂  1(diš) udu niga 3(diš)-kam us₂  1(diš) udu niga 4(diš)-kam us₂  1(diš) udu niga gu₄-e-us₂-sa  an  1(diš) maš₂-gal niga saga  1(diš) udu niga saga us₂ . 1(u) udu niga gu₄-e-us₂-sa . {d}en-lil₂ . 2(diš) udu niga saga . 2(diš) udu niga saga us₂ . 1(diš) maš₂-gal niga 3(diš)-kam us₂ . 1(u) udu niga gu₄-e-us₂-sa . {d}nin-lil₂ . 1(diš) udu niga 3(diš)-kam us₂ . 1(diš) udu niga 4(diš)-kam us₂ . {d}gu-za {d}en-lil₂-la₂ . 1(diš) udu niga 3(diš)-kam us₂ . 1(diš) udu niga 4(diš)-kam us₂ . hur-sag-ga-lam-ma . 1(diš) udu niga 4(diš)-kam us₂ . AN a-ba-{d}en-lil₂-gin₇ . šu-nir {d}en-lil₂-la₂ . ša₃ nibru{ki} . 2(diš) udu niga saga . 1(diš) maš₂-gal niga saga us₂ . [x] udu niga gu₄-e-us₂-sa  {d}nin-lil₂  1(diš) udu niga 3(diš)-kam us₂  2(diš) udu niga 4(diš)-kam us₂  {d}nanna  1(diš) udu niga 3(diš)-kam us₂  1(diš) udu niga 4(diš)-kam us₂  {d}nin-ti₂-ug₅-ga  1(diš) udu niga 3(diš)-kam us₂  {d}nisaba . 1(diš) udu niga 3(diš)-kam us₂ . {d}en-lil₂-la₂ GI . 1(diš) udu niga 3(diš)-kam us₂ . 1(diš) udu niga 4(diš)-kam us₂ . e₂-gal mah . ša₃ e₂ {d}nin-lil₂-la₂ . 1(diš) udu niga . 1(diš) udu niga gu₄-e-us₂-sa . {d}nin-e₂-gi₄-a . 2(diš) udu niga 4(diš)-kam us₂ . 1(diš) udu niga . {d}nin-hur-sag . 2(diš) udu niga . {d}nin-pa-e₃ . ša₃ e₂ {d}nin-hur-sag . 2(diš) udu niga saga us₂ . 2(diš) udu niga du₆-ku₃ . 1(diš) udu niga 4(diš)-kam us₂ . {d}inanna ka-giri₃ . {d}šu-{d}[suen]  1(diš) udu niga [...]  1(diš) udu [...]  {d}PA-[...]  2(diš) udu niga [...]  1(diš) udu niga [...]  nig₂-[...]  {d}nin-[...]  1(diš) udu niga [...]  {d}[...] . 2(diš) udu [...] . {d}nin-[...] . 1(diš) udu niga [...] . 1(diš) udu [...] . 2(diš) udu niga [...] . {d}nin-sa₆-[...] . 1(diš) udu niga 4(diš)-kam [us₂] . 1(diš) udu [...] . {d}šu-{d}suen . 1(diš) udu niga x [...] . 1(diš) udu niga [...] . 1(diš) udu niga [...] . {d}EN-[...] . 1(diš) udu niga [...] . 1(diš) udu [...] . 1(diš) udu [...] . 1(diš) [...] . 2(diš) [...] . {d}nin-[...] . 2(diš) udu [...] . {d}x-x [...] . 1(diš) x x [...] . 1(diš) [...] . [...] . 1(diš) [...] . {d}[...] . 1(diš) udu niga gu₄-[e-us₂-sa] . {d}nisaba? . 1(diš) udu niga nig₂-x x . {d}nusku . 1(diš) udu niga gu₄-e-us₂-sa . nig₂-diri ʾ. {d}al-la gu-la ʾ. 1(diš) udu niga gu₄-e-us₂-sa ʾ. nig₂-diri ʾ. {d}[x]-x ʾ. ša₃ [x]-x-la [...] um? ʾ. 1(diš) udu [...] x ʾ. 1(diš) [...] ʾ. {d}nanna ʾ. 1(diš) [...] ʾ. {d}[...] ʾ. 1(diš) udu [...] ʾ. {d}ba-[...] ʾ. 1(diš) udu niga [...] ʾ. {d}nin-gir₂?-[su] ʾ. 2(diš) [...] ʾ. {d}en-[lil₂] ʾ. 2(diš) udu [...] ʾ. {d}nin-lil₂ ʾ. giri₃ a₂!-na-na ʾ. nig₂-dab₅ ezem [...] ʾ. 4(diš) x [...] ʾ. {d}šu-{d}[suen]  [x] udu niga  [...] niga  [...] a  [...] tum?  [...] iš?  [...] du?  [...] nisaba?  [...] ti  [a₂]-ge₆-ba-a . u₄ 7(diš)-kam . ki a-ba-{d}en-lil₂-gin₇-ta ba-zi . ša₃ nibru{ki} . giri₃ lu₂-{d}nin-šubur dub-sar . iti diri ezem-{d}me-ki-gal₂ . mu {d}šu-{d}suen lugal uri₅{ki}-ma-ke₄ na-ru₂-a-mah {d}en-lil₂ {d}nin-lil₂-ra mu-ne-du₃  2(geš₂) 2(u)', ' [...] 1(u) 1(diš) udu niga saga us₂  [x] gukkal niga 3(diš)-kam us₂  [x] udu niga 3(diš)-kam us₂  [x] maš₂-gal niga 4(diš)-kam us₂  {d}en-lil₂  1(diš) udu niga 4(diš)-kam us₂  {d}gu-za {d}en-lil₂-la₂  1(diš) udu niga 4(diš)-kam us₂  hur-sag-ga-lam-ma . ša₃ e₂ {d}en-lil₂-la₂ . [x] gukkal niga saga us₂ . [x] udu a-lum niga saga us₂ . [...] udu niga 3(diš)-kam us₂ . [...] niga 4(diš)-kam us₂ . [...] e₂ . [...] alan du₃ [...] . [...] x hu-ba-a . [...] x 1(diš) dusu x [...] . [...] 1(u) 4(diš) [mu-kuₓ(DU)] lugal . [...] 1(u) 5(diš)-kam . [ki] ša-x-e₂-ta . [ba]-zi . [giri₃ x]-an-ni dub-sar . [iti] ses-da-gu₇ u₄ . [mu {d}]šu-{d}suen lugal uri₅[{ki}-ma-ke₄ e₂ {d}šara₂] umma{ki}-ka [mu]-du₃']\n",
      "\n",
      "[' 2(diš) sila₄  ki ur-ku₃-nun-na-ta  du₁₁-ga  i₃-dab₅  iti ezem-mah  mu en {d}inanna maš₂-e i₃-pa₃  du₁₁-ga dub-sar  dumu lu₂-{d}nin-gir₂-su  sipa na-gab₂-tum', ' 8(diš) udu  ki ka₅-a-mu-ta  du₁₁-ga i₃-dab₅  iti ezem-{d}nin-a-zu  mu ma₂-dara₃-abzu {d}en-ki ba-ab-du₈  du₁₁-ga dub-sar  dumu lu₂-{d}nin-gir₂-su  sipa na-gab₂-tum', ' 4(diš) udu  8(diš) maš₂  ki ka₅-a-mu-ta  du₁₁-ga  i₃-dab₅  giri₃ al-la-mu  iti ezem-me-ki-gal₂  mu ma₂ {d}en-ki-ka ba-ab-du₈  du₁₁-ga dub#-[sar]  dumu lu₂-[{d}nin-gir₂-su]  sipa na-[gab₂]-tum', ' 1(diš) gu₄ u₂  2(diš) udu u₂  1(diš) sila₄  u₄ 2(u) 5(diš)-kam  ki in-ta-e₃-a-ta  ur-ku₃-nun-na  i₃-dab₅  iti ezem-me-ki-gal₂  mu e₂ {d}šara₂ ba-du₃  du₁₁-ga [dub-sar]  dumu lu₂-[{d}nin-gir₂-su]  sipa na-gab₂-tum', ' 1(diš) udu  kišib₃ {d}utu-bar-ra unu₃  ki ur-mes-ta  ba-zi  iti ezem-{d}šul-gi  mu ma₂-dara₃-abzu ba-ab-du₈  udu  du₁₁-ga dub-sar  dumu lu₂-{d}nin-[gir₂-su]  sipa na-gab₂-[tum]']\n",
      "\n",
      "[' 1(diš) sila₄ {d}en-lil₂  1(diš) sila₄ {d}nin-lil₂  mu-kuₓ(DU) šeš-da-da sanga  1(diš) sila₄ {d}en-lil₂  1(diš) sila₄ {d}nin-lil₂  mu-kuₓ(DU) en {d}inanna  1(diš) sila₄ {d}utu  mu-kuₓ(DU) ur-du₆  zabar-dab₅ maškim  1(diš) gu₄ niga 3(diš) u₈ ba-uš₂  e₂-muhaldim-še₃  u₄ 1(u) 1(diš)-kam  zi-ga  iti ezem-{d}nin-a-zu  mu en {d}nanna maš-e i₃-pa₃', ' 1(diš) sila₄ niga {d}en-lil₂#  mu-kuₓ(DU) ur#-nigar#{gar}  1(diš) sila₄ {d}nin-lil₂  mu-kuₓ(DU) za-a-an-nu-um sipa  zabar#-dab₅ maškim  1(diš) maš₂# e₂#-uz#-ga  mu-kuₓ(DU) ku-na-ma#-tum mar-tu  a-a-kal-la maškim  3(diš) gu₄ 3(diš) ab₂  1(u) 3(diš) udu 1(u) 5(diš) u₈#  2(diš) ud₅ šu-gid₂ e₂#-muhaldim  mu aga₃-us₂-e-ne-še₃  ur-nigar{gar} šu ba-ti  u₄ 1(u) 1(diš)-kam  ki na-sa₆#-ta  ba-zi  iti# šu#-eš-ša  mu us₂-sa ki-maš{ki} ba-hul', ' 1(diš) sila₄ {d}en-lil₂  1(diš) sila₄ {d}nin-lil₂  2(diš) udu niga  mu-kuₓ(DU)-ta x zu [...]  4(diš) udu niga 1(diš) udu [...]  1(diš) sila₄? [...] en [...]  e₂-uz-[ga]  1(diš) sila₄ {d}[en-lil₂]  1(diš) sila₄ {d}nin-lil₂ . mu-kuₓ(DU) šeš da-da#-[ga] . 1(diš) sila₄ {d}[...] . mu-kuₓ(DU) dingir-su-[ra-bi₂] . ARAD₂-mu [...]  2(diš) maš-da₃ [...]  mu-kuₓ(DU) e₂-a-i₃#-[li₂]  1(u) la₂ 1(diš) udu 4(diš) [...]  1(diš) u₈ 4(diš) [...]  3(diš) [...]  šu-gid₂ e₂-muhaldim-[še₃]  u₄ 1(u) 1(diš)-kam  ki na-sa₆-ta ba-zi  iti a₂-ki-ti . mu us₂-sa ki-maš{ki} ba-hul mu us₂-sa-bi', ' 1(diš) udu niga {d}en-lil₂  mu-kuₓ(DU) a-hi-e₂-a  1(diš) sila₄ {d}nin-lil₂  mu-kuₓ(DU) ta-la-a-a  1(diš) gukkal niga {d}en-lil₂  1(diš) gukkal niga {d}nin-lil₂  mu-kuₓ(DU) ur-{d}en-lil₂  1(diš) sila₄ {d}en-lil₂  mu-kuₓ(DU) zabar-dab₅ . 1(diš) sila₄ {d}nin-lil₂ . mu-kuₓ(DU) ur-{d}suen  {d}nanše-GIR₂@g?-gal maškim  1(diš) sila₄ mu-kuₓ(DU) ARAD₂-mu  1(diš) maš₂ mu-kuₓ(DU) ṣe-lu-uš-{d}da-gan  e₂-uz-ga  ur-{d}ba-[ba₆ maškim]  2(diš) udu a-wa-at-i₃-li₂ x  ARAD₂-mu maškim  1(diš) gu₄ 3(diš) udu 4(diš) u₈ 3(diš) [...]  3(diš) maš₂ 2(diš) ud₅ šu-gid₂ e₂-muhaldim-še₃ . u₄ 3(u) la₂ 1(diš)-kam . ki na-sa₆-ta ba-zi . iti ezem-mah . mu ha-ar-ši{ki} u₃ ki-maš{ki} ba-hul']\n",
      "\n",
      "[' 1(diš) {kuš}e-sir₂ e₂-ba-an  1(diš) {kuš}ummu₃  ba-saga sagi  1(diš) {kuš}e-sir₂ e₂-ba-an  1(diš) {kuš}ummu₃  lugal-mas-su  ur-sukkal nar  4(diš) dug šakkan  kuš u₂-hab₂-bi 1(diš)  ur-{d}iškur šu-i  1(diš) {kuš}ummu₃  lugal-iri-ni-še₃  {kuš}suhub₂ im še-ga₂ e₂-ba-an . ensi₂  2(diš) kuš maš₂ ur-nigar{gar} ab-ba-iri  zi-ga ensi₂', ' 4(diš) {kuš}suhub₂ du₈-ši-a e₂-ba-an  2(diš) {kuš}suhub₂ gu-dim₄-ba gada du₈-ši-a e₂-ba-an  2(u) 6(diš) {kuš}suhub₂ e₂-uruda-ka-gaz {kuš}suhub₂ aktum₂ e₂-ba-an  1(diš) {kuš}suhub₂ tug₂ du₈-a e₂-ba-an  2(u) 6(diš) {kuš}e-sir₂ du₈-ši-a suhuš gub-ba e₂-ba-an  1(diš) {kuš}e-sir₂ u₂-hab₂ e₂-ba-an  kin ak kal-la-ma-ad  gaba-ri kišib₃ nu-ur₂#-[i₃]-li₂#  ša₃ puzur₄-iš-{d}[da]-gan  iti ezem-{d}nin-a-zu  mu {d}šu-{d}suen lugal uri₅{ki}-ma-ke₄ na-ru₂-a-mah {d}en-lil₂ {d}nin-lil₂-ra mu-ne-du₃', ' 1(diš) {kuš}suhub₂ tug₂ du₈-a e₂-ba-an  1(diš) ša₃-TUG₂ {kuš}suhub₂ e₂-ba-an-bi  a-tu₅-a  u₄ 1(u) 5(diš)-ka  ki i-du-du-a-ta  ba-zi  ša₃ tum-ma-al{ki}  iti ezem-{d}šul-gi  mu us₂-sa e₂ puzur₄-iš-{d}da-gan ba-du₃', ' 5(diš) {kuš}suhub₂ du₈-ši-a e₂-ba-an  1(u) {kuš}suhub₂ e₂ dingir-ra e₂-ba-an  2(u) 1(diš) {kuš}e-sir₂ du₈-ši-a  suhuš gub-ba e₂-ba-an  3(diš) {kuš}e-sir₂ du₈-ši-a  ka-ur₄ e₂-ba-an  3(diš) {kuš}e-sir₂ du₈-ši-a ra-di  e₂-ba-an  3(diš) {kuš}e-sir₂ u₂-hab₂ e₂-ba-an . kin ak kal-la-ah  ki puzur₄-i₃-li₂-ta#  a-mur-dingir  šu ba-ti  giri₃ an-ne₂-ba-ab-du₇  ša₃ nibru{ki}  iti u₅-bi₂{mušen}-gu₇  u₄ 1(u) 8(diš)-kam  mu {d}i-bi₂-{d}suen lugal-e si-mu-ru-um{ki} mu-hul  {d}i-bi₂#-{d}suen#']\n",
      "\n"
     ]
    }
   ],
   "source": [
    "# Print clusters\n",
    "clusters = {}\n",
    "for c, i in enumerate(labels1):\n",
    "    if i == -1:\n",
    "        continue\n",
    "    elif i in clusters:\n",
    "        clusters[i].append(trans_list[c] )\n",
    "    else:\n",
    "        clusters[i] = [trans_list[c]]\n",
    "\n",
    "for c in clusters:\n",
    "    print(clusters[c])\n",
    "    print()\n",
    "    \n",
    "# Brief analysis: number of clusters depends on eps and ngram range"
   ]
  },
  {
   "cell_type": "code",
   "execution_count": null,
   "metadata": {
    "collapsed": true
   },
   "outputs": [],
   "source": []
  }
 ],
 "metadata": {
  "anaconda-cloud": {},
  "kernelspec": {
   "display_name": "Python [Root]",
   "language": "python",
   "name": "Python [Root]"
  },
  "language_info": {
   "codemirror_mode": {
    "name": "ipython",
    "version": 3
   },
   "file_extension": ".py",
   "mimetype": "text/x-python",
   "name": "python",
   "nbconvert_exporter": "python",
   "pygments_lexer": "ipython3",
   "version": "3.5.2"
  }
 },
 "nbformat": 4,
 "nbformat_minor": 0
}
